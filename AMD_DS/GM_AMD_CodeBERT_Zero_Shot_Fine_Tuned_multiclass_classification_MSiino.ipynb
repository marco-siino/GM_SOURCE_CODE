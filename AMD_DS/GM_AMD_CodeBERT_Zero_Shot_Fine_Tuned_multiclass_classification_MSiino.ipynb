{
  "cells": [
    {
      "cell_type": "markdown",
      "metadata": {
        "id": "view-in-github",
        "colab_type": "text"
      },
      "source": [
        "<a href=\"https://colab.research.google.com/github/marco-siino/GM_SOURCE_CODE/blob/main/AMD_DS/GM_AMD_CodeBERT_Zero_Shot_Fine_Tuned_multiclass_classification_MSiino.ipynb\" target=\"_parent\"><img src=\"https://colab.research.google.com/assets/colab-badge.svg\" alt=\"Open In Colab\"/></a>"
      ]
    },
    {
      "cell_type": "markdown",
      "metadata": {
        "id": "o4DW7kiug94o"
      },
      "source": [
        "# Fine Tuning Transformer for MultiClass Text Classification of Source Code. Notebook by Marco Siino et al."
      ]
    },
    {
      "cell_type": "markdown",
      "metadata": {
        "id": "ZJOVl9vLg94q"
      },
      "source": [
        "# Importing Python Libraries and preparing the environment\n",
        "\n",
        "At this step we will be importing the libraries and modules needed to run our script. Libraries are:\n",
        "* Pandas\n",
        "* Pytorch\n",
        "* Pytorch Utils for Dataset and Dataloader\n",
        "* Transformers\n",
        "* BERT Model and Tokenizer\n",
        "\n",
        "Followed by that we will preapre the device for CUDA execeution. This configuration is needed if you want to leverage on onboard GPU."
      ]
    },
    {
      "cell_type": "code",
      "execution_count": 1,
      "metadata": {
        "id": "wuMlXT80GAMK",
        "colab": {
          "base_uri": "https://localhost:8080/"
        },
        "outputId": "d59ce54d-bdb7-4fa3-f333-93ea8a39bb7a"
      },
      "outputs": [
        {
          "output_type": "stream",
          "name": "stderr",
          "text": [
            "/leonardo/prod/spack/03/ccsdeploy/spack_deploy/envs/cineca-ai-3/view/lib/python3.10/site-packages/tqdm/auto.py:22: TqdmWarning: IProgress not found. Please update jupyter and ipywidgets. See https://ipywidgets.readthedocs.io/en/stable/user_install.html\n",
            "  from .autonotebook import tqdm as notebook_tqdm\n"
          ]
        }
      ],
      "source": [
        "# Importing the libraries needed\n",
        "import pandas as pd\n",
        "import torch\n",
        "import transformers\n",
        "from torch.utils.data import Dataset, DataLoader\n",
        "from transformers import AutoTokenizer, AutoModel\n",
        "from sklearn.model_selection import KFold"
      ]
    },
    {
      "cell_type": "code",
      "execution_count": 2,
      "metadata": {
        "id": "xQMKTZ4ARk12"
      },
      "outputs": [],
      "source": [
        "# Setting up the device for GPU usage\n",
        "\n",
        "from torch import cuda\n",
        "device = 'cuda' if cuda.is_available() else 'cpu'"
      ]
    },
    {
      "cell_type": "markdown",
      "metadata": {
        "id": "bNOPbPvVg94s"
      },
      "source": [
        "# Importing and Pre-Processing the domain data"
      ]
    },
    {
      "cell_type": "code",
      "execution_count": 3,
      "metadata": {
        "id": "iNCaZ2epNcSO",
        "colab": {
          "base_uri": "https://localhost:8080/"
        },
        "outputId": "a5614d9d-6d30-4540-e285-d698914f5a3c"
      },
      "outputs": [
        {
          "output_type": "stream",
          "name": "stdout",
          "text": [
            "                                                   src oracle  ENCODE_CAT\n",
            "0    2048 - 255 - __kernel void A(int a, const __gl...    GPU           1\n",
            "1    131072 - 256 - __kernel void A(__global uint* ...    CPU           0\n",
            "2    3145728 - 256 - extern void B(float4 a, float4...    GPU           1\n",
            "3    4096 - 256 - __kernel void A(__global float* a...    CPU           0\n",
            "4    524288 - 256 - __kernel void A(__global uint* ...    CPU           0\n",
            "..                                                 ...    ...         ...\n",
            "675  2000628 - 128 - __kernel void A(__global const...    CPU           0\n",
            "676  2000628 - 128 - __kernel void A(__global const...    CPU           0\n",
            "677  71647488 - 0 - extern int D(__private int, __p...    GPU           1\n",
            "678  71647488 - 256 - extern int B(int, int, int);\\...    GPU           1\n",
            "679  117440512 - 128 - __kernel void A(__global con...    CPU           0\n",
            "\n",
            "[680 rows x 3 columns]\n",
            "                                                   src oracle  ENCODE_CAT\n",
            "0    6346800 - 52 - __kernel void A(__global double...    CPU           0\n",
            "1    15948384 - 48 - __kernel void A(__global const...    CPU           0\n",
            "2    14742140 - 128 - extern double __clc_pow(const...    CPU           0\n",
            "3    15948384 - 2 - extern void B(double m, double ...    CPU           0\n",
            "4    755866968 - 64 - __kernel void A(__global doub...    CPU           0\n",
            "..                                                 ...    ...         ...\n",
            "675  14742140 - 128 - __kernel void A(__global doub...    CPU           0\n",
            "676  57594120 - 128 - __kernel void A(__global cons...    CPU           0\n",
            "677  320457304 - 64 - extern void B(double, double,...    GPU           1\n",
            "678  1344811536 - 20 - extern void D(__private doub...    GPU           1\n",
            "679  1313675032 - 32 - __kernel void A(__global con...    GPU           1\n",
            "\n",
            "[680 rows x 3 columns]\n"
          ]
        }
      ],
      "source": [
        "# Import the csv into pandas dataframe and add the headers\n",
        "\n",
        "df = pd.read_csv('dataset-devmap-amd.csv',sep=',')\n",
        "#df = pd.concat(map(pd.read_csv, ['dataset-devmap-nvidia.csv', 'dataset-devmap-amd.csv']))\n",
        "#df = pd.read_csv('dataset-devmap-nvidia.csv', sep='\\t', names=['benchmark','dataset','comp','rational','mem','localmem','coalesced','atomic','transfer','wgsize','oracle','runtime_cpu','runtime_gpu','src','seq'])\n",
        "#print(df.head())\n",
        "# Now include transfer and wgsize columns into the src column.\n",
        "df['src'] = df['transfer'].astype(str) +\" - \"+ df['wgsize'].astype(str) +\" - \"+df[\"src\"]\n",
        "# # Removing unwanted columns and only leaving title of news and the category which will be the target\n",
        "df = df[['src','oracle']]\n",
        "#print(df.head())\n",
        "\n",
        "encode_dict = {}\n",
        "\n",
        "def encode_cat(x):\n",
        "    if x == \"GPU\":\n",
        "      encode_dict[x]=1\n",
        "    else:\n",
        "      encode_dict[x]=0\n",
        "    return encode_dict[x]\n",
        "\n",
        "df['ENCODE_CAT'] = df['oracle'].apply(lambda x: encode_cat(x))\n",
        "\n",
        "print(df)\n",
        "\n",
        "df = df.sample(frac=1, random_state=1).reset_index(drop=True)\n",
        "\n",
        "print(df)"
      ]
    },
    {
      "cell_type": "markdown",
      "metadata": {
        "id": "qDomDFc5g94s"
      },
      "source": [
        "# Preparing the Dataset and Dataloader\n",
        "\n",
        "We will start with defining few key variables that will be used later during the training/fine tuning stage.\n",
        "Followed by creation of Dataset class - This defines how the text is pre-processed before sending it to the neural network. We will also define the Dataloader that will feed  the data in batches to the neural network for suitable training and processing.\n",
        "Dataset and Dataloader are constructs of the PyTorch library for defining and controlling the data pre-processing and its passage to neural network. For further reading into Dataset and Dataloader read the [docs at PyTorch](https://pytorch.org/docs/stable/data.html)\n",
        "\n",
        "#### *Triage* Dataset Class\n",
        "- This class is defined to accept the Dataframe as input and generate tokenized output that is used by the DistilBERT model for training.\n",
        "- We are using the DistilBERT tokenizer to tokenize the data in the `TITLE` column of the dataframe.\n",
        "- The tokenizer uses the `encode_plus` method to perform tokenization and generate the necessary outputs, namely: `ids`, `attention_mask`\n",
        "- To read further into the tokenizer, [refer to this document](https://huggingface.co/transformers/model_doc/distilbert.html#distilberttokenizer)\n",
        "- `target` is the encoded category on the news headline.\n",
        "- The *Triage* class is used to create 2 datasets, for training and for validation.\n",
        "- *Training Dataset* is used to fine tune the model: **80% of the original data**\n",
        "- *Validation Dataset* is used to evaluate the performance of the model. The model has not seen this data during training.\n",
        "\n",
        "#### Dataloader\n",
        "- Dataloader is used to for creating training and validation dataloader that load data to the neural network in a defined manner. This is needed because all the data from the dataset cannot be loaded to the memory at once, hence the amount of dataloaded to the memory and then passed to the neural network needs to be controlled.\n",
        "- This control is achieved using the parameters such as `batch_size` and `max_len`.\n",
        "- Training and Validation dataloaders are used in the training and validation part of the flow respectively"
      ]
    },
    {
      "cell_type": "code",
      "source": [
        "# RIMPIAZZO MCROCK\n",
        "# Defining some key variables that will be used later on in the training\n",
        "MAX_LEN = 512\n",
        "TRAIN_BATCH_SIZE = 4\n",
        "VALID_BATCH_SIZE = 2\n",
        "EPOCHS = 10\n",
        "LEARNING_RATE = 1e-05\n",
        "tokenizer = AutoTokenizer.from_pretrained('codebert/')"
      ],
      "metadata": {
        "id": "JhA_AVEdrxWF"
      },
      "execution_count": 4,
      "outputs": []
    },
    {
      "cell_type": "code",
      "execution_count": 5,
      "metadata": {
        "id": "2vX7kzaAHu39"
      },
      "outputs": [],
      "source": [
        "class Triage(Dataset):\n",
        "    def __init__(self, dataframe, tokenizer, max_len):\n",
        "        self.len = len(dataframe)\n",
        "        self.data = dataframe\n",
        "        self.tokenizer = tokenizer\n",
        "        self.max_len = max_len\n",
        "\n",
        "    def __getitem__(self, index):\n",
        "        title = str(self.data.src[index])\n",
        "        title = \" \".join(title.split())\n",
        "        inputs = self.tokenizer.encode_plus(\n",
        "            title,\n",
        "            None,\n",
        "            add_special_tokens=True,\n",
        "            max_length=self.max_len,\n",
        "            pad_to_max_length=True,\n",
        "            return_token_type_ids=True,\n",
        "            truncation=True\n",
        "        )\n",
        "        ids = inputs['input_ids']\n",
        "        mask = inputs['attention_mask']\n",
        "\n",
        "        return {\n",
        "            'ids': torch.tensor(ids, dtype=torch.long),\n",
        "            'mask': torch.tensor(mask, dtype=torch.long),\n",
        "            'targets': torch.tensor(self.data.ENCODE_CAT[index], dtype=torch.long)\n",
        "        }\n",
        "\n",
        "    def __len__(self):\n",
        "        return self.len"
      ]
    },
    {
      "cell_type": "markdown",
      "metadata": {
        "id": "qSRhkzXKg94u"
      },
      "source": [
        "# Creating the Transformer for Fine Tuning\n"
      ]
    },
    {
      "cell_type": "code",
      "source": [
        "# Creating the customized model, by adding a drop out and a dense layer on top of distil bert to get the final output for the model.\n",
        "\n",
        "class CodeBERTClass(torch.nn.Module):\n",
        "    def __init__(self):\n",
        "        super(CodeBERTClass, self).__init__()\n",
        "        self.l1 = AutoModel.from_pretrained(\"codebert/\")\n",
        "        self.pre_classifier = torch.nn.Linear(768, 768)\n",
        "        self.dropout = torch.nn.Dropout(0.3)\n",
        "        self.classifier = torch.nn.Linear(768, 2)\n",
        "\n",
        "    def forward(self, input_ids, attention_mask):\n",
        "        output_1 = self.l1(input_ids=input_ids, attention_mask=attention_mask)\n",
        "        hidden_state = output_1[0]\n",
        "        pooler = hidden_state[:, 0]\n",
        "        pooler = self.pre_classifier(pooler)\n",
        "        pooler = torch.nn.ReLU()(pooler)\n",
        "        pooler = self.dropout(pooler)\n",
        "        output = self.classifier(pooler)\n",
        "        return output\n"
      ],
      "metadata": {
        "id": "JYdlFn3z114Q"
      },
      "execution_count": 6,
      "outputs": []
    },
    {
      "cell_type": "markdown",
      "source": [
        "# Generate the 5 fold objects."
      ],
      "metadata": {
        "id": "L5GIoLhYyY79"
      }
    },
    {
      "cell_type": "code",
      "source": [
        "# Each i-train fold can be accessed with df_train[i]. Same for test.\n",
        "fold_nr = 5\n",
        "\n",
        "kf = KFold(n_splits=5, random_state=None, shuffle=False)\n",
        "\n",
        "df_train = []\n",
        "df_test = []\n",
        "model = []\n",
        "\n",
        "for i, (train_index, test_index) in enumerate(kf.split(df)):\n",
        "  df_train.append(df.iloc[train_index])\n",
        "  df_test.append(df.iloc[test_index])\n",
        "# print(df_train[0])\n",
        "\n",
        "for i in range(0,fold_nr):\n",
        "  df_train[i] = df_train[i].reset_index(drop=True)\n",
        "  df_test[i] = df_test[i].reset_index(drop=True)\n",
        "  # Generate a different model for each fold.\n",
        "  model.append(CodeBERTClass())\n",
        "  model[i].to(device)\n"
      ],
      "metadata": {
        "id": "Dx0eqM-Gynq4"
      },
      "execution_count": 7,
      "outputs": []
    },
    {
      "cell_type": "code",
      "execution_count": 8,
      "metadata": {
        "id": "Zcwq13c0NE9c"
      },
      "outputs": [],
      "source": [
        "# Creating the dataset and dataloader\n",
        "\n",
        "#train_size = 0.8\n",
        "#train_dataset=df.sample(frac=train_size,random_state=200)\n",
        "#test_dataset=df.drop(train_dataset.index).reset_index(drop=True)\n",
        "#train_dataset = train_dataset.reset_index(drop=True)\n",
        "\n",
        "\n",
        "#print(\"FULL Dataset: {}\".format(df.shape))\n",
        "#print(\"TRAIN Dataset: {}\".format(train_dataset.shape))\n",
        "#print(\"TEST Dataset: {}\".format(test_dataset.shape))\n",
        "\n",
        "#training_set = Triage(train_dataset, tokenizer, MAX_LEN)\n",
        "#testing_set = Triage(test_dataset, tokenizer, MAX_LEN)\n",
        "\n",
        "training_set = []\n",
        "testing_set = []\n",
        "training_loader = []\n",
        "testing_loader = []\n",
        "\n",
        "\n",
        "train_params = {'batch_size': TRAIN_BATCH_SIZE,\n",
        "                'shuffle': True,\n",
        "                'num_workers': 0\n",
        "                }\n",
        "\n",
        "test_params = {'batch_size': VALID_BATCH_SIZE,\n",
        "                'shuffle': True,\n",
        "                'num_workers': 0\n",
        "                }\n",
        "\n",
        "\n",
        "for i in range(0,fold_nr):\n",
        "  training_set.append(Triage(df_train[i], tokenizer, MAX_LEN))\n",
        "  testing_set.append(Triage(df_test[i], tokenizer, MAX_LEN))\n",
        "  training_loader.append(DataLoader(training_set[i], **train_params))\n",
        "  testing_loader.append(DataLoader(testing_set[i], **test_params))\n"
      ]
    },
    {
      "cell_type": "markdown",
      "source": [
        "# Calculate accuracy"
      ],
      "metadata": {
        "id": "E6vJBtdSMOC1"
      }
    },
    {
      "cell_type": "code",
      "execution_count": 9,
      "metadata": {
        "id": "U3U4s3e9g94u"
      },
      "outputs": [],
      "source": [
        "# Function to calcuate the accuracy of the model\n",
        "\n",
        "def calcuate_accu(big_idx, targets):\n",
        "    n_correct = (big_idx==targets).sum().item()\n",
        "    return n_correct"
      ]
    },
    {
      "cell_type": "code",
      "execution_count": 10,
      "metadata": {
        "id": "fF3XpswUg94u"
      },
      "outputs": [],
      "source": [
        "# Creating the loss function and optimizer\n",
        "optimizer = []\n",
        "loss_function = torch.nn.CrossEntropyLoss()\n",
        "for i in range(0,fold_nr):\n",
        "  optimizer.append(torch.optim.Adam(params =  model[i].parameters(), lr=LEARNING_RATE))"
      ]
    },
    {
      "cell_type": "markdown",
      "metadata": {
        "id": "eBcni6oig94u"
      },
      "source": [
        "# Define the Fine Tuning of the Model\n",
        "\n",
        "After all the effort of loading and preparing the data and datasets, creating the model and defining its loss and optimizer. This is probably the easier steps in the process.\n",
        "\n",
        "Here we define a training function that trains the model on the training dataset created above, specified number of times (EPOCH), An epoch defines how many times the complete data will be passed through the network.\n",
        "\n",
        "Following events happen in this function to fine tune the neural network:\n",
        "- The dataloader passes data to the model based on the batch size.\n",
        "- Subsequent output from the model and the actual category are compared to calculate the loss.\n",
        "- Loss value is used to optimize the weights of the neurons in the network.\n",
        "- After every 5000 steps the loss value is printed in the console."
      ]
    },
    {
      "cell_type": "code",
      "execution_count": 11,
      "metadata": {
        "id": "QYzhifllg94u"
      },
      "outputs": [],
      "source": [
        "# Defining the training function on the 80% of the dataset for tuning the distilbert model\n",
        "\n",
        "def train(epoch, model,optimizer, training_loader):\n",
        "    tr_loss = 0\n",
        "    n_correct = 0\n",
        "    nb_tr_steps = 0\n",
        "    nb_tr_examples = 0\n",
        "    model.train()\n",
        "    for _,data in enumerate(training_loader, 0):\n",
        "        ids = data['ids'].to(device, dtype = torch.long)\n",
        "        mask = data['mask'].to(device, dtype = torch.long)\n",
        "        targets = data['targets'].to(device, dtype = torch.long)\n",
        "\n",
        "        outputs = model(ids, mask)\n",
        "        loss = loss_function(outputs, targets)\n",
        "        tr_loss += loss.item()\n",
        "        big_val, big_idx = torch.max(outputs.data, dim=1)\n",
        "        n_correct += calcuate_accu(big_idx, targets)\n",
        "\n",
        "        nb_tr_steps += 1\n",
        "        nb_tr_examples+=targets.size(0)\n",
        "\n",
        "        if _%5000==0:\n",
        "            loss_step = tr_loss/nb_tr_steps\n",
        "            accu_step = (n_correct*100)/nb_tr_examples\n",
        "            print(f\"\\nTraining Loss per 5000 steps: {loss_step}\")\n",
        "            print(f\"Training Accuracy per 5000 steps: {accu_step}\")\n",
        "\n",
        "        optimizer.zero_grad()\n",
        "        loss.backward()\n",
        "        # # When using GPU\n",
        "        optimizer.step()\n",
        "\n",
        "    print(f'The Total Accuracy for Epoch {epoch}: {(n_correct*100)/nb_tr_examples}')\n",
        "    epoch_loss = tr_loss/nb_tr_steps\n",
        "    epoch_accu = (n_correct*100)/nb_tr_examples\n",
        "    print(f\"Training Loss Epoch: {epoch_loss}\")\n",
        "    print(f\"Training Accuracy Epoch: {epoch_accu}\")\n",
        "\n",
        "    return"
      ]
    },
    {
      "cell_type": "markdown",
      "source": [
        "# Zero-Shot evaluation on the 5 fold."
      ],
      "metadata": {
        "id": "zNMpIcGYTyu_"
      }
    },
    {
      "cell_type": "code",
      "execution_count": 12,
      "metadata": {
        "id": "KzL51A5qg94v"
      },
      "outputs": [],
      "source": [
        "\n",
        "def valid(model, testing_loader):\n",
        "    tr_loss = 0\n",
        "    n_correct = 0\n",
        "    nb_tr_steps = 0\n",
        "    nb_tr_examples = 0\n",
        "    model.eval()\n",
        "    n_correct = 0; n_wrong = 0; total = 0\n",
        "    with torch.no_grad():\n",
        "        for _, data in enumerate(testing_loader, 0):\n",
        "            #print(\"\\n\\nSTEP Nr. \", nb_tr_steps)\n",
        "            # Validation batch is 2. Then, every step is 2 predictions. Then the total steps are half of the size of the test fold.\n",
        "            ids = data['ids'].to(device, dtype = torch.long)\n",
        "            mask = data['mask'].to(device, dtype = torch.long)\n",
        "            targets = data['targets'].to(device, dtype = torch.long)\n",
        "            #print(\"ids è\", ids)\n",
        "            #print(\"mask è\", mask)\n",
        "            outputs = model(ids, mask).squeeze()\n",
        "            #print(\"gli outputs sono:\",outputs)\n",
        "            #print(\"i targets sono:\",targets)\n",
        "            loss = loss_function(outputs, targets)\n",
        "            tr_loss += loss.item()\n",
        "            big_val, big_idx = torch.max(outputs.data, dim=1)\n",
        "            n_correct += calcuate_accu(big_idx, targets)\n",
        "\n",
        "            #print(\"bid_idx è\",big_idx)\n",
        "            #print(\"Correct now is:\", n_correct)\n",
        "\n",
        "            nb_tr_steps += 1\n",
        "            nb_tr_examples+=targets.size(0)\n",
        "\n",
        "            if _%5000==0:\n",
        "                loss_step = tr_loss/nb_tr_steps\n",
        "                accu_step = (n_correct*100)/nb_tr_examples\n",
        "                print(f\"Validation Loss per 100 steps: {loss_step}\")\n",
        "                print(f\"Validation Accuracy per 100 steps: {accu_step}\")\n",
        "    epoch_loss = tr_loss/nb_tr_steps\n",
        "    epoch_accu = (n_correct*100)/nb_tr_examples\n",
        "    print(f\"Validation Loss Epoch: {epoch_loss}\")\n",
        "    print(f\"Validation Accuracy Epoch: {epoch_accu}\")\n",
        "\n",
        "    return epoch_accu\n"
      ]
    },
    {
      "cell_type": "code",
      "execution_count": 13,
      "metadata": {
        "id": "-xBmWV93g94v",
        "outputId": "0bfa4933-f725-496b-bcef-db418a735d62",
        "colab": {
          "base_uri": "https://localhost:8080/"
        }
      },
      "outputs": [
        {
          "output_type": "stream",
          "name": "stdout",
          "text": [
            "This is the validation section to print the accuracy and see how it performs\n",
            "Here we are leveraging on the dataloader crearted for the validation dataset, the approcah is using more of pytorch\n",
            "\n",
            "Entering FOLD NR.  0\n"
          ]
        },
        {
          "output_type": "stream",
          "name": "stderr",
          "text": [
            "/leonardo/home/userexternal/msiino00/.local/lib/python3.10/site-packages/transformers/tokenization_utils_base.py:2614: FutureWarning: The `pad_to_max_length` argument is deprecated and will be removed in a future version, use `padding=True` or `padding='longest'` to pad to the longest sequence in the batch, or use `padding='max_length'` to pad to a max length. In this case, you can give a specific length with `max_length` (e.g. `max_length=45`) or leave max_length to None to pad to the maximal input size of the model (e.g. 512 for Bert).\n",
            "  warnings.warn(\n"
          ]
        },
        {
          "output_type": "stream",
          "name": "stdout",
          "text": [
            "Validation Loss per 100 steps: 0.9653238654136658\n",
            "Validation Accuracy per 100 steps: 0.0\n",
            "Validation Loss Epoch: 0.7915944303659832\n",
            "Validation Accuracy Epoch: 36.029411764705884\n",
            "Accuracy on test data = 36.03%\n",
            "\n",
            "Entering FOLD NR.  1\n",
            "Validation Loss per 100 steps: 0.7018173933029175\n",
            "Validation Accuracy per 100 steps: 0.0\n",
            "Validation Loss Epoch: 0.6918141543865204\n",
            "Validation Accuracy Epoch: 56.61764705882353\n",
            "Accuracy on test data = 56.62%\n",
            "\n",
            "Entering FOLD NR.  2\n",
            "Validation Loss per 100 steps: 0.8385500907897949\n",
            "Validation Accuracy per 100 steps: 0.0\n",
            "Validation Loss Epoch: 0.6860388333306593\n",
            "Validation Accuracy Epoch: 55.88235294117647\n",
            "Accuracy on test data = 55.88%\n",
            "\n",
            "Entering FOLD NR.  3\n",
            "Validation Loss per 100 steps: 0.7857998609542847\n",
            "Validation Accuracy per 100 steps: 0.0\n",
            "Validation Loss Epoch: 0.7155727901879478\n",
            "Validation Accuracy Epoch: 38.970588235294116\n",
            "Accuracy on test data = 38.97%\n",
            "\n",
            "Entering FOLD NR.  4\n",
            "Validation Loss per 100 steps: 0.7111108303070068\n",
            "Validation Accuracy per 100 steps: 50.0\n",
            "Validation Loss Epoch: 0.7620464563369751\n",
            "Validation Accuracy Epoch: 42.64705882352941\n",
            "Accuracy on test data = 42.65%\n"
          ]
        }
      ],
      "source": [
        "print('This is the validation section to print the accuracy and see how it performs')\n",
        "print('Here we are leveraging on the dataloader crearted for the validation dataset, the approcah is using more of pytorch')\n",
        "for i in range(0,fold_nr):\n",
        "  print(\"\\nEntering FOLD NR. \", i)\n",
        "  acc = valid(model[i], testing_loader[i])\n",
        "  print(\"Accuracy on test data = %0.2f%%\" % acc)"
      ]
    },
    {
      "cell_type": "markdown",
      "source": [
        "# Fine-Tuning the model."
      ],
      "metadata": {
        "id": "lX5GVxBdUHtr"
      }
    },
    {
      "cell_type": "code",
      "execution_count": 14,
      "metadata": {
        "id": "ZMfM4AVNg94v",
        "colab": {
          "base_uri": "https://localhost:8080/"
        },
        "outputId": "6c2f2b92-e822-4655-8875-0fbb4ebdb406"
      },
      "outputs": [
        {
          "output_type": "stream",
          "name": "stdout",
          "text": [
            "\n",
            "Entering FOLD NR.  0\n",
            "\n",
            "Training Loss per 5000 steps: 0.5968380570411682\n",
            "Training Accuracy per 5000 steps: 75.0\n",
            "The Total Accuracy for Epoch 0: 55.88235294117647\n",
            "Training Loss Epoch: 0.6818071750595289\n",
            "Training Accuracy Epoch: 55.88235294117647\n",
            "\n",
            "Training Loss per 5000 steps: 0.7321269512176514\n",
            "Training Accuracy per 5000 steps: 50.0\n",
            "The Total Accuracy for Epoch 1: 72.9779411764706\n",
            "Training Loss Epoch: 0.5438314683954505\n",
            "Training Accuracy Epoch: 72.9779411764706\n",
            "\n",
            "Training Loss per 5000 steps: 0.5055303573608398\n",
            "Training Accuracy per 5000 steps: 75.0\n",
            "The Total Accuracy for Epoch 2: 87.5\n",
            "Training Loss Epoch: 0.31794567176086064\n",
            "Training Accuracy Epoch: 87.5\n",
            "\n",
            "Training Loss per 5000 steps: 0.7421509027481079\n",
            "Training Accuracy per 5000 steps: 50.0\n",
            "The Total Accuracy for Epoch 3: 89.70588235294117\n",
            "Training Loss Epoch: 0.2416317209820537\n",
            "Training Accuracy Epoch: 89.70588235294117\n",
            "\n",
            "Training Loss per 5000 steps: 0.4660414457321167\n",
            "Training Accuracy per 5000 steps: 75.0\n",
            "The Total Accuracy for Epoch 4: 93.75\n",
            "Training Loss Epoch: 0.1586682343896588\n",
            "Training Accuracy Epoch: 93.75\n",
            "\n",
            "Training Loss per 5000 steps: 0.021031299605965614\n",
            "Training Accuracy per 5000 steps: 100.0\n",
            "The Total Accuracy for Epoch 5: 94.30147058823529\n",
            "Training Loss Epoch: 0.1444910267737749\n",
            "Training Accuracy Epoch: 94.30147058823529\n",
            "\n",
            "Training Loss per 5000 steps: 0.06819263100624084\n",
            "Training Accuracy per 5000 steps: 100.0\n",
            "The Total Accuracy for Epoch 6: 96.875\n",
            "Training Loss Epoch: 0.09387799586265293\n",
            "Training Accuracy Epoch: 96.875\n",
            "\n",
            "Training Loss per 5000 steps: 0.4556650221347809\n",
            "Training Accuracy per 5000 steps: 75.0\n",
            "The Total Accuracy for Epoch 7: 97.24264705882354\n",
            "Training Loss Epoch: 0.06837900829850696\n",
            "Training Accuracy Epoch: 97.24264705882354\n",
            "\n",
            "Training Loss per 5000 steps: 0.023327600210905075\n",
            "Training Accuracy per 5000 steps: 100.0\n",
            "The Total Accuracy for Epoch 8: 97.24264705882354\n",
            "Training Loss Epoch: 0.07868996286860612\n",
            "Training Accuracy Epoch: 97.24264705882354\n",
            "\n",
            "Training Loss per 5000 steps: 0.0475243516266346\n",
            "Training Accuracy per 5000 steps: 100.0\n",
            "The Total Accuracy for Epoch 9: 99.63235294117646\n",
            "Training Loss Epoch: 0.0247688110513777\n",
            "Training Accuracy Epoch: 99.63235294117646\n",
            "\n",
            "Entering FOLD NR.  1\n",
            "\n",
            "Training Loss per 5000 steps: 0.6120264530181885\n",
            "Training Accuracy per 5000 steps: 75.0\n",
            "The Total Accuracy for Epoch 0: 59.375\n",
            "Training Loss Epoch: 0.6707424188361448\n",
            "Training Accuracy Epoch: 59.375\n",
            "\n",
            "Training Loss per 5000 steps: 0.5413466095924377\n",
            "Training Accuracy per 5000 steps: 75.0\n",
            "The Total Accuracy for Epoch 1: 69.30147058823529\n",
            "Training Loss Epoch: 0.5954826396396932\n",
            "Training Accuracy Epoch: 69.30147058823529\n",
            "\n",
            "Training Loss per 5000 steps: 0.4698314070701599\n",
            "Training Accuracy per 5000 steps: 75.0\n",
            "The Total Accuracy for Epoch 2: 88.97058823529412\n",
            "Training Loss Epoch: 0.30842530401423573\n",
            "Training Accuracy Epoch: 88.97058823529412\n",
            "\n",
            "Training Loss per 5000 steps: 0.0735805481672287\n",
            "Training Accuracy per 5000 steps: 100.0\n",
            "The Total Accuracy for Epoch 3: 94.8529411764706\n",
            "Training Loss Epoch: 0.16478349553311572\n",
            "Training Accuracy Epoch: 94.8529411764706\n",
            "\n",
            "Training Loss per 5000 steps: 0.7188639640808105\n",
            "Training Accuracy per 5000 steps: 75.0\n",
            "The Total Accuracy for Epoch 4: 95.7720588235294\n",
            "Training Loss Epoch: 0.13441260679460623\n",
            "Training Accuracy Epoch: 95.7720588235294\n",
            "\n",
            "Training Loss per 5000 steps: 0.11346907913684845\n",
            "Training Accuracy per 5000 steps: 100.0\n",
            "The Total Accuracy for Epoch 5: 97.24264705882354\n",
            "Training Loss Epoch: 0.09734296529581223\n",
            "Training Accuracy Epoch: 97.24264705882354\n",
            "\n",
            "Training Loss per 5000 steps: 0.010149317793548107\n",
            "Training Accuracy per 5000 steps: 100.0\n",
            "The Total Accuracy for Epoch 6: 97.24264705882354\n",
            "Training Loss Epoch: 0.09282893068088657\n",
            "Training Accuracy Epoch: 97.24264705882354\n",
            "\n",
            "Training Loss per 5000 steps: 0.009515916928648949\n",
            "Training Accuracy per 5000 steps: 100.0\n",
            "The Total Accuracy for Epoch 7: 98.16176470588235\n",
            "Training Loss Epoch: 0.055763005885049045\n",
            "Training Accuracy Epoch: 98.16176470588235\n",
            "\n",
            "Training Loss per 5000 steps: 0.1228686273097992\n",
            "Training Accuracy per 5000 steps: 100.0\n",
            "The Total Accuracy for Epoch 8: 99.63235294117646\n",
            "Training Loss Epoch: 0.02204389635966543\n",
            "Training Accuracy Epoch: 99.63235294117646\n",
            "\n",
            "Training Loss per 5000 steps: 0.007817973382771015\n",
            "Training Accuracy per 5000 steps: 100.0\n",
            "The Total Accuracy for Epoch 9: 97.79411764705883\n",
            "Training Loss Epoch: 0.0692789463483838\n",
            "Training Accuracy Epoch: 97.79411764705883\n",
            "\n",
            "Entering FOLD NR.  2\n",
            "\n",
            "Training Loss per 5000 steps: 0.8497637510299683\n",
            "Training Accuracy per 5000 steps: 25.0\n",
            "The Total Accuracy for Epoch 0: 60.294117647058826\n",
            "Training Loss Epoch: 0.679366681505652\n",
            "Training Accuracy Epoch: 60.294117647058826\n",
            "\n",
            "Training Loss per 5000 steps: 0.6767884492874146\n",
            "Training Accuracy per 5000 steps: 50.0\n",
            "The Total Accuracy for Epoch 1: 66.17647058823529\n",
            "Training Loss Epoch: 0.6296301907037988\n",
            "Training Accuracy Epoch: 66.17647058823529\n",
            "\n",
            "Training Loss per 5000 steps: 0.49497318267822266\n",
            "Training Accuracy per 5000 steps: 75.0\n",
            "The Total Accuracy for Epoch 2: 79.2279411764706\n",
            "Training Loss Epoch: 0.46200087096761255\n",
            "Training Accuracy Epoch: 79.2279411764706\n",
            "\n",
            "Training Loss per 5000 steps: 0.5635191798210144\n",
            "Training Accuracy per 5000 steps: 75.0\n",
            "The Total Accuracy for Epoch 3: 90.80882352941177\n",
            "Training Loss Epoch: 0.24956974819959962\n",
            "Training Accuracy Epoch: 90.80882352941177\n",
            "\n",
            "Training Loss per 5000 steps: 0.0786997526884079\n",
            "Training Accuracy per 5000 steps: 100.0\n",
            "The Total Accuracy for Epoch 4: 93.75\n",
            "Training Loss Epoch: 0.17962496038800216\n",
            "Training Accuracy Epoch: 93.75\n",
            "\n",
            "Training Loss per 5000 steps: 0.6010571122169495\n",
            "Training Accuracy per 5000 steps: 75.0\n",
            "The Total Accuracy for Epoch 5: 95.03676470588235\n",
            "Training Loss Epoch: 0.1475640638895771\n",
            "Training Accuracy Epoch: 95.03676470588235\n",
            "\n",
            "Training Loss per 5000 steps: 0.02823667600750923\n",
            "Training Accuracy per 5000 steps: 100.0\n",
            "The Total Accuracy for Epoch 6: 95.22058823529412\n",
            "Training Loss Epoch: 0.11085942979244624\n",
            "Training Accuracy Epoch: 95.22058823529412\n",
            "\n",
            "Training Loss per 5000 steps: 0.01507170032709837\n",
            "Training Accuracy per 5000 steps: 100.0\n",
            "The Total Accuracy for Epoch 7: 97.9779411764706\n",
            "Training Loss Epoch: 0.06872472081415575\n",
            "Training Accuracy Epoch: 97.9779411764706\n",
            "\n",
            "Training Loss per 5000 steps: 0.007683177478611469\n",
            "Training Accuracy per 5000 steps: 100.0\n",
            "The Total Accuracy for Epoch 8: 96.50735294117646\n",
            "Training Loss Epoch: 0.11149944963878677\n",
            "Training Accuracy Epoch: 96.50735294117646\n",
            "\n",
            "Training Loss per 5000 steps: 0.007764860056340694\n",
            "Training Accuracy per 5000 steps: 100.0\n",
            "The Total Accuracy for Epoch 9: 97.24264705882354\n",
            "Training Loss Epoch: 0.07790360332685797\n",
            "Training Accuracy Epoch: 97.24264705882354\n",
            "\n",
            "Entering FOLD NR.  3\n",
            "\n",
            "Training Loss per 5000 steps: 0.8447325229644775\n",
            "Training Accuracy per 5000 steps: 25.0\n",
            "The Total Accuracy for Epoch 0: 56.61764705882353\n",
            "Training Loss Epoch: 0.6913388178629034\n",
            "Training Accuracy Epoch: 56.61764705882353\n",
            "\n",
            "Training Loss per 5000 steps: 0.7512836456298828\n",
            "Training Accuracy per 5000 steps: 50.0\n",
            "The Total Accuracy for Epoch 1: 59.74264705882353\n",
            "Training Loss Epoch: 0.6519340697456809\n",
            "Training Accuracy Epoch: 59.74264705882353\n",
            "\n",
            "Training Loss per 5000 steps: 0.6031455397605896\n",
            "Training Accuracy per 5000 steps: 75.0\n",
            "The Total Accuracy for Epoch 2: 84.00735294117646\n",
            "Training Loss Epoch: 0.3797199772944784\n",
            "Training Accuracy Epoch: 84.00735294117646\n",
            "\n",
            "Training Loss per 5000 steps: 0.36276158690452576\n",
            "Training Accuracy per 5000 steps: 100.0\n",
            "The Total Accuracy for Epoch 3: 93.38235294117646\n",
            "Training Loss Epoch: 0.2073349967626307\n",
            "Training Accuracy Epoch: 93.38235294117646\n",
            "\n",
            "Training Loss per 5000 steps: 0.018717270344495773\n",
            "Training Accuracy per 5000 steps: 100.0\n",
            "The Total Accuracy for Epoch 4: 95.40441176470588\n",
            "Training Loss Epoch: 0.1389184141298756\n",
            "Training Accuracy Epoch: 95.40441176470588\n",
            "\n",
            "Training Loss per 5000 steps: 0.01475520059466362\n",
            "Training Accuracy per 5000 steps: 100.0\n",
            "The Total Accuracy for Epoch 5: 97.42647058823529\n",
            "Training Loss Epoch: 0.09828591870952069\n",
            "Training Accuracy Epoch: 97.42647058823529\n",
            "\n",
            "Training Loss per 5000 steps: 0.03531375527381897\n",
            "Training Accuracy per 5000 steps: 100.0\n",
            "The Total Accuracy for Epoch 6: 97.79411764705883\n",
            "Training Loss Epoch: 0.0940834372646778\n",
            "Training Accuracy Epoch: 97.79411764705883\n",
            "\n",
            "Training Loss per 5000 steps: 0.007153957150876522\n",
            "Training Accuracy per 5000 steps: 100.0\n",
            "The Total Accuracy for Epoch 7: 97.61029411764706\n",
            "Training Loss Epoch: 0.06870315592010122\n",
            "Training Accuracy Epoch: 97.61029411764706\n",
            "\n",
            "Training Loss per 5000 steps: 0.004679291974753141\n",
            "Training Accuracy per 5000 steps: 100.0\n",
            "The Total Accuracy for Epoch 8: 97.24264705882354\n",
            "Training Loss Epoch: 0.07741908569518915\n",
            "Training Accuracy Epoch: 97.24264705882354\n",
            "\n",
            "Training Loss per 5000 steps: 0.004493335261940956\n",
            "Training Accuracy per 5000 steps: 100.0\n",
            "The Total Accuracy for Epoch 9: 97.05882352941177\n",
            "Training Loss Epoch: 0.08949802766266443\n",
            "Training Accuracy Epoch: 97.05882352941177\n",
            "\n",
            "Entering FOLD NR.  4\n",
            "\n",
            "Training Loss per 5000 steps: 0.4830627143383026\n",
            "Training Accuracy per 5000 steps: 100.0\n",
            "The Total Accuracy for Epoch 0: 57.904411764705884\n",
            "Training Loss Epoch: 0.6788337633890265\n",
            "Training Accuracy Epoch: 57.904411764705884\n",
            "\n",
            "Training Loss per 5000 steps: 0.47755369544029236\n",
            "Training Accuracy per 5000 steps: 100.0\n",
            "The Total Accuracy for Epoch 1: 64.5220588235294\n",
            "Training Loss Epoch: 0.6455501539303976\n",
            "Training Accuracy Epoch: 64.5220588235294\n",
            "\n",
            "Training Loss per 5000 steps: 0.653978168964386\n",
            "Training Accuracy per 5000 steps: 75.0\n",
            "The Total Accuracy for Epoch 2: 76.47058823529412\n",
            "Training Loss Epoch: 0.5142740885562757\n",
            "Training Accuracy Epoch: 76.47058823529412\n",
            "\n",
            "Training Loss per 5000 steps: 0.10290873050689697\n",
            "Training Accuracy per 5000 steps: 100.0\n",
            "The Total Accuracy for Epoch 3: 91.7279411764706\n",
            "Training Loss Epoch: 0.24307799657039783\n",
            "Training Accuracy Epoch: 91.7279411764706\n",
            "\n",
            "Training Loss per 5000 steps: 0.24959217011928558\n",
            "Training Accuracy per 5000 steps: 100.0\n",
            "The Total Accuracy for Epoch 4: 94.30147058823529\n",
            "Training Loss Epoch: 0.17067456988426036\n",
            "Training Accuracy Epoch: 94.30147058823529\n",
            "\n",
            "Training Loss per 5000 steps: 0.040028080344200134\n",
            "Training Accuracy per 5000 steps: 100.0\n",
            "The Total Accuracy for Epoch 5: 94.8529411764706\n",
            "Training Loss Epoch: 0.15324807264294257\n",
            "Training Accuracy Epoch: 94.8529411764706\n",
            "\n",
            "Training Loss per 5000 steps: 0.016605379059910774\n",
            "Training Accuracy per 5000 steps: 100.0\n",
            "The Total Accuracy for Epoch 6: 97.24264705882354\n",
            "Training Loss Epoch: 0.08231388169053175\n",
            "Training Accuracy Epoch: 97.24264705882354\n",
            "\n",
            "Training Loss per 5000 steps: 0.016840074211359024\n",
            "Training Accuracy per 5000 steps: 100.0\n",
            "The Total Accuracy for Epoch 7: 97.61029411764706\n",
            "Training Loss Epoch: 0.07491710294818725\n",
            "Training Accuracy Epoch: 97.61029411764706\n",
            "\n",
            "Training Loss per 5000 steps: 0.008584598079323769\n",
            "Training Accuracy per 5000 steps: 100.0\n",
            "The Total Accuracy for Epoch 8: 97.61029411764706\n",
            "Training Loss Epoch: 0.07573256282108452\n",
            "Training Accuracy Epoch: 97.61029411764706\n",
            "\n",
            "Training Loss per 5000 steps: 0.08860009908676147\n",
            "Training Accuracy per 5000 steps: 100.0\n",
            "The Total Accuracy for Epoch 9: 98.71323529411765\n",
            "Training Loss Epoch: 0.04509015397257719\n",
            "Training Accuracy Epoch: 98.71323529411765\n"
          ]
        }
      ],
      "source": [
        "for i in range(0,fold_nr):\n",
        "  print(\"\\nEntering FOLD NR. \", i)\n",
        "  for epoch in range(EPOCHS):\n",
        "    train(epoch,model[i],optimizer[i],training_loader[i])"
      ]
    },
    {
      "cell_type": "markdown",
      "source": [
        "# Evaluate the test set on the fine-tuned model."
      ],
      "metadata": {
        "id": "6_1zvnOBUXYC"
      }
    },
    {
      "cell_type": "code",
      "source": [
        "print('This is the validation section to print the accuracy and see how it performs')\n",
        "print('Here we are leveraging on the dataloader crearted for the validation dataset, the approcah is using more of pytorch')\n",
        "for i in range(0,fold_nr):\n",
        "  print(\"\\nEntering FOLD NR. \", i)\n",
        "  acc = valid(model[i], testing_loader[i])\n",
        "  print(\"Accuracy on test data = %0.2f%%\" % acc)"
      ],
      "metadata": {
        "id": "-TqE0rGlUXBo",
        "colab": {
          "base_uri": "https://localhost:8080/"
        },
        "outputId": "2b8576c7-2d94-4518-e7db-02449dbf2dd3"
      },
      "execution_count": 15,
      "outputs": [
        {
          "output_type": "stream",
          "name": "stdout",
          "text": [
            "This is the validation section to print the accuracy and see how it performs\n",
            "Here we are leveraging on the dataloader crearted for the validation dataset, the approcah is using more of pytorch\n",
            "\n",
            "Entering FOLD NR.  0\n",
            "Validation Loss per 100 steps: 0.002727886661887169\n",
            "Validation Accuracy per 100 steps: 100.0\n",
            "Validation Loss Epoch: 0.19582543915192432\n",
            "Validation Accuracy Epoch: 95.58823529411765\n",
            "Accuracy on test data = 95.59%\n",
            "\n",
            "Entering FOLD NR.  1\n",
            "Validation Loss per 100 steps: 0.002237629843875766\n",
            "Validation Accuracy per 100 steps: 100.0\n",
            "Validation Loss Epoch: 0.40723028509220216\n",
            "Validation Accuracy Epoch: 88.97058823529412\n",
            "Accuracy on test data = 88.97%\n",
            "\n",
            "Entering FOLD NR.  2\n",
            "Validation Loss per 100 steps: 0.004376812372356653\n",
            "Validation Accuracy per 100 steps: 100.0\n",
            "Validation Loss Epoch: 0.20645843126454994\n",
            "Validation Accuracy Epoch: 95.58823529411765\n",
            "Accuracy on test data = 95.59%\n",
            "\n",
            "Entering FOLD NR.  3\n",
            "Validation Loss per 100 steps: 1.8515623807907104\n",
            "Validation Accuracy per 100 steps: 50.0\n",
            "Validation Loss Epoch: 0.4274706692907357\n",
            "Validation Accuracy Epoch: 89.70588235294117\n",
            "Accuracy on test data = 89.71%\n",
            "\n",
            "Entering FOLD NR.  4\n",
            "Validation Loss per 100 steps: 0.006032081786543131\n",
            "Validation Accuracy per 100 steps: 100.0\n",
            "Validation Loss Epoch: 0.4295885483357672\n",
            "Validation Accuracy Epoch: 89.70588235294117\n",
            "Accuracy on test data = 89.71%\n"
          ]
        }
      ]
    },
    {
      "cell_type": "markdown",
      "metadata": {
        "id": "lLbwK-Mrg94v"
      },
      "source": [
        "# Saving the Trained Model Artifacts for inference\n",
        "\n",
        "This is the final step in the process of fine tuning the model.\n",
        "\n",
        "The model and its vocabulary are saved locally. These files are then used in the future to make inference on new inputs of news headlines.\n",
        "\n",
        "Please remember that a trained neural network is only useful when used in actual inference after its training.\n",
        "\n",
        "In the lifecycle of an ML projects this is only half the job done. We will leave the inference of these models for some other day."
      ]
    },
    {
      "cell_type": "code",
      "execution_count": null,
      "metadata": {
        "id": "492L-lBBg94v"
      },
      "outputs": [],
      "source": [
        "# Saving the files for re-use\n",
        "\n",
        "output_model_file = './models/pytorch_distilbert_news.bin'\n",
        "output_vocab_file = './models/vocab_distilbert_news.bin'\n",
        "\n",
        "model_to_save = model\n",
        "torch.save(model_to_save, output_model_file)\n",
        "tokenizer.save_vocabulary(output_vocab_file)\n",
        "\n",
        "print('All files saved')\n",
        "print('This tutorial is completed')"
      ]
    }
  ],
  "metadata": {
    "colab": {
      "provenance": [],
      "include_colab_link": true
    },
    "kernelspec": {
      "display_name": "Python 3",
      "language": "python",
      "name": "python3"
    },
    "varInspector": {
      "cols": {
        "lenName": 16,
        "lenType": 16,
        "lenVar": 40
      },
      "kernels_config": {
        "python": {
          "delete_cmd_postfix": "",
          "delete_cmd_prefix": "del ",
          "library": "var_list.py",
          "varRefreshCmd": "print(var_dic_list())"
        },
        "r": {
          "delete_cmd_postfix": ") ",
          "delete_cmd_prefix": "rm(",
          "library": "var_list.r",
          "varRefreshCmd": "cat(var_dic_list()) "
        }
      },
      "types_to_exclude": [
        "module",
        "function",
        "builtin_function_or_method",
        "instance",
        "_Feature"
      ],
      "window_display": false
    }
  },
  "nbformat": 4,
  "nbformat_minor": 0
}