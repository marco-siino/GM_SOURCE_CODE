{
  "cells": [
    {
      "cell_type": "markdown",
      "metadata": {
        "id": "view-in-github",
        "colab_type": "text"
      },
      "source": [
        "<a href=\"https://colab.research.google.com/github/marco-siino/GM_SOURCE_CODE/blob/main/AMD_DS/GM_AMD_DistilBERT_Zero_Shot_Fine_Tuned_multiclass_classification_MSiino.ipynb\" target=\"_parent\"><img src=\"https://colab.research.google.com/assets/colab-badge.svg\" alt=\"Open In Colab\"/></a>"
      ]
    },
    {
      "cell_type": "markdown",
      "metadata": {
        "id": "o4DW7kiug94o"
      },
      "source": [
        "# Fine Tuning Transformer for MultiClass Text Classification of Source Code. Notebook by Marco Siino et al."
      ]
    },
    {
      "cell_type": "markdown",
      "metadata": {
        "id": "ZJOVl9vLg94q"
      },
      "source": [
        "# Importing Python Libraries and preparing the environment\n",
        "\n",
        "At this step we will be importing the libraries and modules needed to run our script. Libraries are:\n",
        "* Pandas\n",
        "* Pytorch\n",
        "* Pytorch Utils for Dataset and Dataloader\n",
        "* Transformers\n",
        "* BERT Model and Tokenizer\n",
        "\n",
        "Followed by that we will preapre the device for CUDA execeution. This configuration is needed if you want to leverage on onboard GPU."
      ]
    },
    {
      "cell_type": "code",
      "execution_count": 1,
      "metadata": {
        "id": "wuMlXT80GAMK",
        "colab": {
          "base_uri": "https://localhost:8080/"
        },
        "outputId": "990791a5-45be-4571-c51d-47e97eeca341"
      },
      "outputs": [
        {
          "output_type": "stream",
          "name": "stderr",
          "text": [
            "/leonardo/prod/spack/03/ccsdeploy/spack_deploy/envs/cineca-ai-3/view/lib/python3.10/site-packages/tqdm/auto.py:22: TqdmWarning: IProgress not found. Please update jupyter and ipywidgets. See https://ipywidgets.readthedocs.io/en/stable/user_install.html\n",
            "  from .autonotebook import tqdm as notebook_tqdm\n"
          ]
        }
      ],
      "source": [
        "# Importing the libraries needed\n",
        "import pandas as pd\n",
        "import torch\n",
        "import transformers\n",
        "from torch.utils.data import Dataset, DataLoader\n",
        "from transformers import BertTokenizer, BertForMaskedLM, BertModel, DistilBertModel, DistilBertTokenizer\n",
        "from sklearn.model_selection import KFold"
      ]
    },
    {
      "cell_type": "code",
      "execution_count": 2,
      "metadata": {
        "id": "xQMKTZ4ARk12"
      },
      "outputs": [],
      "source": [
        "# Setting up the device for GPU usage\n",
        "\n",
        "from torch import cuda\n",
        "device = 'cuda' if cuda.is_available() else 'cpu'"
      ]
    },
    {
      "cell_type": "markdown",
      "metadata": {
        "id": "bNOPbPvVg94s"
      },
      "source": [
        "# Importing and Pre-Processing the domain data"
      ]
    },
    {
      "cell_type": "code",
      "execution_count": 3,
      "metadata": {
        "id": "iNCaZ2epNcSO",
        "colab": {
          "base_uri": "https://localhost:8080/"
        },
        "outputId": "fed85e68-f7a9-4a85-d674-363009af70b2"
      },
      "outputs": [
        {
          "output_type": "stream",
          "name": "stdout",
          "text": [
            "                                                   src oracle  ENCODE_CAT\n",
            "0    2048 - 255 - __kernel void A(int a, const __gl...    GPU           1\n",
            "1    131072 - 256 - __kernel void A(__global uint* ...    CPU           0\n",
            "2    3145728 - 256 - extern void B(float4 a, float4...    GPU           1\n",
            "3    4096 - 256 - __kernel void A(__global float* a...    CPU           0\n",
            "4    524288 - 256 - __kernel void A(__global uint* ...    CPU           0\n",
            "..                                                 ...    ...         ...\n",
            "675  2000628 - 128 - __kernel void A(__global const...    CPU           0\n",
            "676  2000628 - 128 - __kernel void A(__global const...    CPU           0\n",
            "677  71647488 - 0 - extern int D(__private int, __p...    GPU           1\n",
            "678  71647488 - 256 - extern int B(int, int, int);\\...    GPU           1\n",
            "679  117440512 - 128 - __kernel void A(__global con...    CPU           0\n",
            "\n",
            "[680 rows x 3 columns]\n",
            "                                                   src oracle  ENCODE_CAT\n",
            "0    6346800 - 52 - __kernel void A(__global double...    CPU           0\n",
            "1    15948384 - 48 - __kernel void A(__global const...    CPU           0\n",
            "2    14742140 - 128 - extern double __clc_pow(const...    CPU           0\n",
            "3    15948384 - 2 - extern void B(double m, double ...    CPU           0\n",
            "4    755866968 - 64 - __kernel void A(__global doub...    CPU           0\n",
            "..                                                 ...    ...         ...\n",
            "675  14742140 - 128 - __kernel void A(__global doub...    CPU           0\n",
            "676  57594120 - 128 - __kernel void A(__global cons...    CPU           0\n",
            "677  320457304 - 64 - extern void B(double, double,...    GPU           1\n",
            "678  1344811536 - 20 - extern void D(__private doub...    GPU           1\n",
            "679  1313675032 - 32 - __kernel void A(__global con...    GPU           1\n",
            "\n",
            "[680 rows x 3 columns]\n"
          ]
        }
      ],
      "source": [
        "# Import the csv into pandas dataframe and add the headers\n",
        "\n",
        "df = pd.read_csv('dataset-devmap-amd.csv',sep=',')\n",
        "#df = pd.concat(map(pd.read_csv, ['dataset-devmap-nvidia.csv', 'dataset-devmap-amd.csv']))\n",
        "#df = pd.read_csv('dataset-devmap-nvidia.csv', sep='\\t', names=['benchmark','dataset','comp','rational','mem','localmem','coalesced','atomic','transfer','wgsize','oracle','runtime_cpu','runtime_gpu','src','seq'])\n",
        "#print(df.head())\n",
        "# Now include transfer and wgsize columns into the src column.\n",
        "df['src'] = df['transfer'].astype(str) +\" - \"+ df['wgsize'].astype(str) +\" - \"+df[\"src\"]\n",
        "# # Removing unwanted columns and only leaving title of news and the category which will be the target\n",
        "df = df[['src','oracle']]\n",
        "#print(df.head())\n",
        "\n",
        "encode_dict = {}\n",
        "\n",
        "def encode_cat(x):\n",
        "    if x == \"GPU\":\n",
        "      encode_dict[x]=1\n",
        "    else:\n",
        "      encode_dict[x]=0\n",
        "    return encode_dict[x]\n",
        "\n",
        "df['ENCODE_CAT'] = df['oracle'].apply(lambda x: encode_cat(x))\n",
        "\n",
        "print(df)\n",
        "\n",
        "df = df.sample(frac=1, random_state=1).reset_index(drop=True)\n",
        "\n",
        "print(df)"
      ]
    },
    {
      "cell_type": "markdown",
      "metadata": {
        "id": "qDomDFc5g94s"
      },
      "source": [
        "# Preparing the Dataset and Dataloader\n",
        "\n",
        "We will start with defining few key variables that will be used later during the training/fine tuning stage.\n",
        "Followed by creation of Dataset class - This defines how the text is pre-processed before sending it to the neural network. We will also define the Dataloader that will feed  the data in batches to the neural network for suitable training and processing.\n",
        "Dataset and Dataloader are constructs of the PyTorch library for defining and controlling the data pre-processing and its passage to neural network. For further reading into Dataset and Dataloader read the [docs at PyTorch](https://pytorch.org/docs/stable/data.html)\n",
        "\n",
        "#### *Triage* Dataset Class\n",
        "- This class is defined to accept the Dataframe as input and generate tokenized output that is used by the DistilBERT model for training.\n",
        "- We are using the DistilBERT tokenizer to tokenize the data in the `TITLE` column of the dataframe.\n",
        "- The tokenizer uses the `encode_plus` method to perform tokenization and generate the necessary outputs, namely: `ids`, `attention_mask`\n",
        "- To read further into the tokenizer, [refer to this document](https://huggingface.co/transformers/model_doc/distilbert.html#distilberttokenizer)\n",
        "- `target` is the encoded category on the news headline.\n",
        "- The *Triage* class is used to create 2 datasets, for training and for validation.\n",
        "- *Training Dataset* is used to fine tune the model: **80% of the original data**\n",
        "- *Validation Dataset* is used to evaluate the performance of the model. The model has not seen this data during training.\n",
        "\n",
        "#### Dataloader\n",
        "- Dataloader is used to for creating training and validation dataloader that load data to the neural network in a defined manner. This is needed because all the data from the dataset cannot be loaded to the memory at once, hence the amount of dataloaded to the memory and then passed to the neural network needs to be controlled.\n",
        "- This control is achieved using the parameters such as `batch_size` and `max_len`.\n",
        "- Training and Validation dataloaders are used in the training and validation part of the flow respectively"
      ]
    },
    {
      "cell_type": "code",
      "source": [
        "# RIMPIAZZO MCROCK\n",
        "# Defining some key variables that will be used later on in the training\n",
        "MAX_LEN = 512\n",
        "TRAIN_BATCH_SIZE = 4\n",
        "VALID_BATCH_SIZE = 2\n",
        "EPOCHS = 10\n",
        "LEARNING_RATE = 1e-05\n",
        "tokenizer = DistilBertTokenizer.from_pretrained('distilbert/distilbert-base-uncased-finetuned-sst-2-english')"
      ],
      "metadata": {
        "id": "JhA_AVEdrxWF"
      },
      "execution_count": 4,
      "outputs": []
    },
    {
      "cell_type": "code",
      "execution_count": 5,
      "metadata": {
        "id": "2vX7kzaAHu39"
      },
      "outputs": [],
      "source": [
        "class Triage(Dataset):\n",
        "    def __init__(self, dataframe, tokenizer, max_len):\n",
        "        self.len = len(dataframe)\n",
        "        self.data = dataframe\n",
        "        self.tokenizer = tokenizer\n",
        "        self.max_len = max_len\n",
        "\n",
        "    def __getitem__(self, index):\n",
        "        title = str(self.data.src[index])\n",
        "        title = \" \".join(title.split())\n",
        "        inputs = self.tokenizer.encode_plus(\n",
        "            title,\n",
        "            None,\n",
        "            add_special_tokens=True,\n",
        "            max_length=self.max_len,\n",
        "            pad_to_max_length=True,\n",
        "            return_token_type_ids=True,\n",
        "            truncation=True\n",
        "        )\n",
        "        ids = inputs['input_ids']\n",
        "        mask = inputs['attention_mask']\n",
        "\n",
        "        return {\n",
        "            'ids': torch.tensor(ids, dtype=torch.long),\n",
        "            'mask': torch.tensor(mask, dtype=torch.long),\n",
        "            'targets': torch.tensor(self.data.ENCODE_CAT[index], dtype=torch.long)\n",
        "        }\n",
        "\n",
        "    def __len__(self):\n",
        "        return self.len"
      ]
    },
    {
      "cell_type": "markdown",
      "metadata": {
        "id": "qSRhkzXKg94u"
      },
      "source": [
        "# Creating the Transformer for Fine Tuning\n"
      ]
    },
    {
      "cell_type": "code",
      "source": [
        "# Creating the customized model, by adding a drop out and a dense layer on top of distil bert to get the final output for the model.\n",
        "\n",
        "class DistillBERTClass(torch.nn.Module):\n",
        "    def __init__(self):\n",
        "        super(DistillBERTClass, self).__init__()\n",
        "        self.l1 = DistilBertModel.from_pretrained(\"distilbert/distilbert-base-uncased-finetuned-sst-2-english\")\n",
        "        self.pre_classifier = torch.nn.Linear(768, 768)\n",
        "        self.dropout = torch.nn.Dropout(0.3)\n",
        "        self.classifier = torch.nn.Linear(768, 2)\n",
        "\n",
        "    def forward(self, input_ids, attention_mask):\n",
        "        output_1 = self.l1(input_ids=input_ids, attention_mask=attention_mask)\n",
        "        hidden_state = output_1[0]\n",
        "        pooler = hidden_state[:, 0]\n",
        "        pooler = self.pre_classifier(pooler)\n",
        "        pooler = torch.nn.ReLU()(pooler)\n",
        "        pooler = self.dropout(pooler)\n",
        "        output = self.classifier(pooler)\n",
        "        return output\n"
      ],
      "metadata": {
        "id": "JYdlFn3z114Q"
      },
      "execution_count": 6,
      "outputs": []
    },
    {
      "cell_type": "markdown",
      "source": [
        "# Generate the 5 fold objects."
      ],
      "metadata": {
        "id": "L5GIoLhYyY79"
      }
    },
    {
      "cell_type": "code",
      "source": [
        "# Each i-train fold can be accessed with df_train[i]. Same for test.\n",
        "fold_nr = 5\n",
        "\n",
        "kf = KFold(n_splits=5, random_state=None, shuffle=False)\n",
        "\n",
        "df_train = []\n",
        "df_test = []\n",
        "model = []\n",
        "\n",
        "for i, (train_index, test_index) in enumerate(kf.split(df)):\n",
        "  df_train.append(df.iloc[train_index])\n",
        "  df_test.append(df.iloc[test_index])\n",
        "# print(df_train[0])\n",
        "\n",
        "for i in range(0,fold_nr):\n",
        "  df_train[i] = df_train[i].reset_index(drop=True)\n",
        "  df_test[i] = df_test[i].reset_index(drop=True)\n",
        "  # Generate a different model for each fold.\n",
        "  model.append(DistillBERTClass())\n",
        "  model[i].to(device)\n"
      ],
      "metadata": {
        "id": "Dx0eqM-Gynq4"
      },
      "execution_count": 7,
      "outputs": []
    },
    {
      "cell_type": "code",
      "execution_count": 8,
      "metadata": {
        "id": "Zcwq13c0NE9c"
      },
      "outputs": [],
      "source": [
        "# Creating the dataset and dataloader\n",
        "\n",
        "#train_size = 0.8\n",
        "#train_dataset=df.sample(frac=train_size,random_state=200)\n",
        "#test_dataset=df.drop(train_dataset.index).reset_index(drop=True)\n",
        "#train_dataset = train_dataset.reset_index(drop=True)\n",
        "\n",
        "\n",
        "#print(\"FULL Dataset: {}\".format(df.shape))\n",
        "#print(\"TRAIN Dataset: {}\".format(train_dataset.shape))\n",
        "#print(\"TEST Dataset: {}\".format(test_dataset.shape))\n",
        "\n",
        "#training_set = Triage(train_dataset, tokenizer, MAX_LEN)\n",
        "#testing_set = Triage(test_dataset, tokenizer, MAX_LEN)\n",
        "\n",
        "training_set = []\n",
        "testing_set = []\n",
        "training_loader = []\n",
        "testing_loader = []\n",
        "\n",
        "\n",
        "train_params = {'batch_size': TRAIN_BATCH_SIZE,\n",
        "                'shuffle': True,\n",
        "                'num_workers': 0\n",
        "                }\n",
        "\n",
        "test_params = {'batch_size': VALID_BATCH_SIZE,\n",
        "                'shuffle': True,\n",
        "                'num_workers': 0\n",
        "                }\n",
        "\n",
        "\n",
        "for i in range(0,fold_nr):\n",
        "  training_set.append(Triage(df_train[i], tokenizer, MAX_LEN))\n",
        "  testing_set.append(Triage(df_test[i], tokenizer, MAX_LEN))\n",
        "  training_loader.append(DataLoader(training_set[i], **train_params))\n",
        "  testing_loader.append(DataLoader(testing_set[i], **test_params))\n"
      ]
    },
    {
      "cell_type": "markdown",
      "source": [
        "# Calculate accuracy"
      ],
      "metadata": {
        "id": "E6vJBtdSMOC1"
      }
    },
    {
      "cell_type": "code",
      "execution_count": 9,
      "metadata": {
        "id": "U3U4s3e9g94u"
      },
      "outputs": [],
      "source": [
        "# Function to calcuate the accuracy of the model\n",
        "\n",
        "def calcuate_accu(big_idx, targets):\n",
        "    n_correct = (big_idx==targets).sum().item()\n",
        "    return n_correct"
      ]
    },
    {
      "cell_type": "code",
      "execution_count": 10,
      "metadata": {
        "id": "fF3XpswUg94u"
      },
      "outputs": [],
      "source": [
        "# Creating the loss function and optimizer\n",
        "optimizer = []\n",
        "loss_function = torch.nn.CrossEntropyLoss()\n",
        "for i in range(0,fold_nr):\n",
        "  optimizer.append(torch.optim.Adam(params =  model[i].parameters(), lr=LEARNING_RATE))"
      ]
    },
    {
      "cell_type": "markdown",
      "metadata": {
        "id": "eBcni6oig94u"
      },
      "source": [
        "# Define the Fine Tuning of the Model\n",
        "\n",
        "After all the effort of loading and preparing the data and datasets, creating the model and defining its loss and optimizer. This is probably the easier steps in the process.\n",
        "\n",
        "Here we define a training function that trains the model on the training dataset created above, specified number of times (EPOCH), An epoch defines how many times the complete data will be passed through the network.\n",
        "\n",
        "Following events happen in this function to fine tune the neural network:\n",
        "- The dataloader passes data to the model based on the batch size.\n",
        "- Subsequent output from the model and the actual category are compared to calculate the loss.\n",
        "- Loss value is used to optimize the weights of the neurons in the network.\n",
        "- After every 5000 steps the loss value is printed in the console."
      ]
    },
    {
      "cell_type": "code",
      "execution_count": 11,
      "metadata": {
        "id": "QYzhifllg94u"
      },
      "outputs": [],
      "source": [
        "# Defining the training function on the 80% of the dataset for tuning the distilbert model\n",
        "\n",
        "def train(epoch, model,optimizer, training_loader):\n",
        "    tr_loss = 0\n",
        "    n_correct = 0\n",
        "    nb_tr_steps = 0\n",
        "    nb_tr_examples = 0\n",
        "    model.train()\n",
        "    for _,data in enumerate(training_loader, 0):\n",
        "        ids = data['ids'].to(device, dtype = torch.long)\n",
        "        mask = data['mask'].to(device, dtype = torch.long)\n",
        "        targets = data['targets'].to(device, dtype = torch.long)\n",
        "\n",
        "        outputs = model(ids, mask)\n",
        "        loss = loss_function(outputs, targets)\n",
        "        tr_loss += loss.item()\n",
        "        big_val, big_idx = torch.max(outputs.data, dim=1)\n",
        "        n_correct += calcuate_accu(big_idx, targets)\n",
        "\n",
        "        nb_tr_steps += 1\n",
        "        nb_tr_examples+=targets.size(0)\n",
        "\n",
        "        if _%5000==0:\n",
        "            loss_step = tr_loss/nb_tr_steps\n",
        "            accu_step = (n_correct*100)/nb_tr_examples\n",
        "            print(f\"\\nTraining Loss per 5000 steps: {loss_step}\")\n",
        "            print(f\"Training Accuracy per 5000 steps: {accu_step}\")\n",
        "\n",
        "        optimizer.zero_grad()\n",
        "        loss.backward()\n",
        "        # # When using GPU\n",
        "        optimizer.step()\n",
        "\n",
        "    print(f'The Total Accuracy for Epoch {epoch}: {(n_correct*100)/nb_tr_examples}')\n",
        "    epoch_loss = tr_loss/nb_tr_steps\n",
        "    epoch_accu = (n_correct*100)/nb_tr_examples\n",
        "    print(f\"Training Loss Epoch: {epoch_loss}\")\n",
        "    print(f\"Training Accuracy Epoch: {epoch_accu}\")\n",
        "\n",
        "    return"
      ]
    },
    {
      "cell_type": "markdown",
      "source": [
        "# Zero-Shot evaluation on the 5 fold."
      ],
      "metadata": {
        "id": "zNMpIcGYTyu_"
      }
    },
    {
      "cell_type": "code",
      "execution_count": 12,
      "metadata": {
        "id": "KzL51A5qg94v"
      },
      "outputs": [],
      "source": [
        "\n",
        "def valid(model, testing_loader):\n",
        "    tr_loss = 0\n",
        "    n_correct = 0\n",
        "    nb_tr_steps = 0\n",
        "    nb_tr_examples = 0\n",
        "    model.eval()\n",
        "    n_correct = 0; n_wrong = 0; total = 0\n",
        "    with torch.no_grad():\n",
        "        for _, data in enumerate(testing_loader, 0):\n",
        "            #print(\"\\n\\nSTEP Nr. \", nb_tr_steps)\n",
        "            # Validation batch is 2. Then, every step is 2 predictions. Then the total steps are half of the size of the test fold.\n",
        "            ids = data['ids'].to(device, dtype = torch.long)\n",
        "            mask = data['mask'].to(device, dtype = torch.long)\n",
        "            targets = data['targets'].to(device, dtype = torch.long)\n",
        "            #print(\"ids è\", ids)\n",
        "            #print(\"mask è\", mask)\n",
        "            outputs = model(ids, mask).squeeze()\n",
        "            #print(\"gli outputs sono:\",outputs)\n",
        "            #print(\"i targets sono:\",targets)\n",
        "            loss = loss_function(outputs, targets)\n",
        "            tr_loss += loss.item()\n",
        "            big_val, big_idx = torch.max(outputs.data, dim=1)\n",
        "            n_correct += calcuate_accu(big_idx, targets)\n",
        "\n",
        "            #print(\"bid_idx è\",big_idx)\n",
        "            #print(\"Correct now is:\", n_correct)\n",
        "\n",
        "            nb_tr_steps += 1\n",
        "            nb_tr_examples+=targets.size(0)\n",
        "\n",
        "            if _%5000==0:\n",
        "                loss_step = tr_loss/nb_tr_steps\n",
        "                accu_step = (n_correct*100)/nb_tr_examples\n",
        "                print(f\"Validation Loss per 100 steps: {loss_step}\")\n",
        "                print(f\"Validation Accuracy per 100 steps: {accu_step}\")\n",
        "    epoch_loss = tr_loss/nb_tr_steps\n",
        "    epoch_accu = (n_correct*100)/nb_tr_examples\n",
        "    print(f\"Validation Loss Epoch: {epoch_loss}\")\n",
        "    print(f\"Validation Accuracy Epoch: {epoch_accu}\")\n",
        "\n",
        "    return epoch_accu\n"
      ]
    },
    {
      "cell_type": "code",
      "execution_count": 13,
      "metadata": {
        "id": "-xBmWV93g94v",
        "outputId": "4446037c-56dd-49f5-d325-d2cda37f5c6b",
        "colab": {
          "base_uri": "https://localhost:8080/"
        }
      },
      "outputs": [
        {
          "output_type": "stream",
          "name": "stdout",
          "text": [
            "This is the validation section to print the accuracy and see how it performs\n",
            "Here we are leveraging on the dataloader crearted for the validation dataset, the approcah is using more of pytorch\n",
            "\n",
            "Entering FOLD NR.  0\n"
          ]
        },
        {
          "output_type": "stream",
          "name": "stderr",
          "text": [
            "/leonardo/home/userexternal/msiino00/.local/lib/python3.10/site-packages/transformers/tokenization_utils_base.py:2614: FutureWarning: The `pad_to_max_length` argument is deprecated and will be removed in a future version, use `padding=True` or `padding='longest'` to pad to the longest sequence in the batch, or use `padding='max_length'` to pad to a max length. In this case, you can give a specific length with `max_length` (e.g. `max_length=45`) or leave max_length to None to pad to the maximal input size of the model (e.g. 512 for Bert).\n",
            "  warnings.warn(\n"
          ]
        },
        {
          "output_type": "stream",
          "name": "stdout",
          "text": [
            "Validation Loss per 100 steps: 0.6956590414047241\n",
            "Validation Accuracy per 100 steps: 50.0\n",
            "Validation Loss Epoch: 0.6949648076997084\n",
            "Validation Accuracy Epoch: 45.588235294117645\n",
            "Accuracy on test data = 45.59%\n",
            "\n",
            "Entering FOLD NR.  1\n",
            "Validation Loss per 100 steps: 0.7109863758087158\n",
            "Validation Accuracy per 100 steps: 50.0\n",
            "Validation Loss Epoch: 0.7088419330470702\n",
            "Validation Accuracy Epoch: 44.11764705882353\n",
            "Accuracy on test data = 44.12%\n",
            "\n",
            "Entering FOLD NR.  2\n",
            "Validation Loss per 100 steps: 0.7076640129089355\n",
            "Validation Accuracy per 100 steps: 50.0\n",
            "Validation Loss Epoch: 0.7018374379943398\n",
            "Validation Accuracy Epoch: 44.11764705882353\n",
            "Accuracy on test data = 44.12%\n",
            "\n",
            "Entering FOLD NR.  3\n",
            "Validation Loss per 100 steps: 0.698896050453186\n",
            "Validation Accuracy per 100 steps: 50.0\n",
            "Validation Loss Epoch: 0.7003982829696992\n",
            "Validation Accuracy Epoch: 38.970588235294116\n",
            "Accuracy on test data = 38.97%\n",
            "\n",
            "Entering FOLD NR.  4\n",
            "Validation Loss per 100 steps: 0.6784406900405884\n",
            "Validation Accuracy per 100 steps: 50.0\n",
            "Validation Loss Epoch: 0.6983527295729693\n",
            "Validation Accuracy Epoch: 42.64705882352941\n",
            "Accuracy on test data = 42.65%\n"
          ]
        }
      ],
      "source": [
        "print('This is the validation section to print the accuracy and see how it performs')\n",
        "print('Here we are leveraging on the dataloader crearted for the validation dataset, the approcah is using more of pytorch')\n",
        "for i in range(0,fold_nr):\n",
        "  print(\"\\nEntering FOLD NR. \", i)\n",
        "  acc = valid(model[i], testing_loader[i])\n",
        "  print(\"Accuracy on test data = %0.2f%%\" % acc)"
      ]
    },
    {
      "cell_type": "markdown",
      "source": [
        "# Fine-Tuning the model."
      ],
      "metadata": {
        "id": "lX5GVxBdUHtr"
      }
    },
    {
      "cell_type": "code",
      "execution_count": 14,
      "metadata": {
        "id": "ZMfM4AVNg94v",
        "colab": {
          "base_uri": "https://localhost:8080/"
        },
        "outputId": "1203d5ac-a580-430e-d76e-c570420a1389"
      },
      "outputs": [
        {
          "output_type": "stream",
          "name": "stdout",
          "text": [
            "\n",
            "Entering FOLD NR.  0\n",
            "\n",
            "Training Loss per 5000 steps: 0.7022194862365723\n",
            "Training Accuracy per 5000 steps: 50.0\n",
            "The Total Accuracy for Epoch 0: 57.904411764705884\n",
            "Training Loss Epoch: 0.6743451788583222\n",
            "Training Accuracy Epoch: 57.904411764705884\n",
            "\n",
            "Training Loss per 5000 steps: 0.3687974810600281\n",
            "Training Accuracy per 5000 steps: 75.0\n",
            "The Total Accuracy for Epoch 1: 66.54411764705883\n",
            "Training Loss Epoch: 0.5835417680004064\n",
            "Training Accuracy Epoch: 66.54411764705883\n",
            "\n",
            "Training Loss per 5000 steps: 0.3182905316352844\n",
            "Training Accuracy per 5000 steps: 100.0\n",
            "The Total Accuracy for Epoch 2: 86.94852941176471\n",
            "Training Loss Epoch: 0.3293358173002215\n",
            "Training Accuracy Epoch: 86.94852941176471\n",
            "\n",
            "Training Loss per 5000 steps: 0.09225716441869736\n",
            "Training Accuracy per 5000 steps: 100.0\n",
            "The Total Accuracy for Epoch 3: 92.27941176470588\n",
            "Training Loss Epoch: 0.2248543184456032\n",
            "Training Accuracy Epoch: 92.27941176470588\n",
            "\n",
            "Training Loss per 5000 steps: 0.13700035214424133\n",
            "Training Accuracy per 5000 steps: 100.0\n",
            "The Total Accuracy for Epoch 4: 92.83088235294117\n",
            "Training Loss Epoch: 0.19514162349514663\n",
            "Training Accuracy Epoch: 92.83088235294117\n",
            "\n",
            "Training Loss per 5000 steps: 0.02517583966255188\n",
            "Training Accuracy per 5000 steps: 100.0\n",
            "The Total Accuracy for Epoch 5: 96.50735294117646\n",
            "Training Loss Epoch: 0.11743258832789519\n",
            "Training Accuracy Epoch: 96.50735294117646\n",
            "\n",
            "Training Loss per 5000 steps: 0.02938905917108059\n",
            "Training Accuracy per 5000 steps: 100.0\n",
            "The Total Accuracy for Epoch 6: 97.79411764705883\n",
            "Training Loss Epoch: 0.07922342053600862\n",
            "Training Accuracy Epoch: 97.79411764705883\n",
            "\n",
            "Training Loss per 5000 steps: 0.08482125401496887\n",
            "Training Accuracy per 5000 steps: 100.0\n",
            "The Total Accuracy for Epoch 7: 97.24264705882354\n",
            "Training Loss Epoch: 0.08378958285731428\n",
            "Training Accuracy Epoch: 97.24264705882354\n",
            "\n",
            "Training Loss per 5000 steps: 0.009814848192036152\n",
            "Training Accuracy per 5000 steps: 100.0\n",
            "The Total Accuracy for Epoch 8: 98.52941176470588\n",
            "Training Loss Epoch: 0.04625938491046648\n",
            "Training Accuracy Epoch: 98.52941176470588\n",
            "\n",
            "Training Loss per 5000 steps: 0.45877957344055176\n",
            "Training Accuracy per 5000 steps: 75.0\n",
            "The Total Accuracy for Epoch 9: 97.42647058823529\n",
            "Training Loss Epoch: 0.06708035856375799\n",
            "Training Accuracy Epoch: 97.42647058823529\n",
            "\n",
            "Entering FOLD NR.  1\n",
            "\n",
            "Training Loss per 5000 steps: 0.7379044890403748\n",
            "Training Accuracy per 5000 steps: 50.0\n",
            "The Total Accuracy for Epoch 0: 57.720588235294116\n",
            "Training Loss Epoch: 0.672091240172877\n",
            "Training Accuracy Epoch: 57.720588235294116\n",
            "\n",
            "Training Loss per 5000 steps: 0.7315995693206787\n",
            "Training Accuracy per 5000 steps: 25.0\n",
            "The Total Accuracy for Epoch 1: 77.20588235294117\n",
            "Training Loss Epoch: 0.47257636103998213\n",
            "Training Accuracy Epoch: 77.20588235294117\n",
            "\n",
            "Training Loss per 5000 steps: 0.4279566705226898\n",
            "Training Accuracy per 5000 steps: 75.0\n",
            "The Total Accuracy for Epoch 2: 87.86764705882354\n",
            "Training Loss Epoch: 0.29098358073764863\n",
            "Training Accuracy Epoch: 87.86764705882354\n",
            "\n",
            "Training Loss per 5000 steps: 0.19025439023971558\n",
            "Training Accuracy per 5000 steps: 100.0\n",
            "The Total Accuracy for Epoch 3: 94.11764705882354\n",
            "Training Loss Epoch: 0.17823787349933648\n",
            "Training Accuracy Epoch: 94.11764705882354\n",
            "\n",
            "Training Loss per 5000 steps: 0.1864875853061676\n",
            "Training Accuracy per 5000 steps: 100.0\n",
            "The Total Accuracy for Epoch 4: 96.32352941176471\n",
            "Training Loss Epoch: 0.1245371114996755\n",
            "Training Accuracy Epoch: 96.32352941176471\n",
            "\n",
            "Training Loss per 5000 steps: 0.017624173313379288\n",
            "Training Accuracy per 5000 steps: 100.0\n",
            "The Total Accuracy for Epoch 5: 95.95588235294117\n",
            "Training Loss Epoch: 0.12477128711008631\n",
            "Training Accuracy Epoch: 95.95588235294117\n",
            "\n",
            "Training Loss per 5000 steps: 0.06686773896217346\n",
            "Training Accuracy per 5000 steps: 100.0\n",
            "The Total Accuracy for Epoch 6: 97.79411764705883\n",
            "Training Loss Epoch: 0.06491613940007109\n",
            "Training Accuracy Epoch: 97.79411764705883\n",
            "\n",
            "Training Loss per 5000 steps: 0.8503227829933167\n",
            "Training Accuracy per 5000 steps: 75.0\n",
            "The Total Accuracy for Epoch 7: 96.69117647058823\n",
            "Training Loss Epoch: 0.10562071354840608\n",
            "Training Accuracy Epoch: 96.69117647058823\n",
            "\n",
            "Training Loss per 5000 steps: 0.25676649808883667\n",
            "Training Accuracy per 5000 steps: 75.0\n",
            "The Total Accuracy for Epoch 8: 97.42647058823529\n",
            "Training Loss Epoch: 0.07465238838374395\n",
            "Training Accuracy Epoch: 97.42647058823529\n",
            "\n",
            "Training Loss per 5000 steps: 0.2123005986213684\n",
            "Training Accuracy per 5000 steps: 100.0\n",
            "The Total Accuracy for Epoch 9: 99.26470588235294\n",
            "Training Loss Epoch: 0.036947877930395084\n",
            "Training Accuracy Epoch: 99.26470588235294\n",
            "\n",
            "Entering FOLD NR.  2\n",
            "\n",
            "Training Loss per 5000 steps: 0.715555727481842\n",
            "Training Accuracy per 5000 steps: 25.0\n",
            "The Total Accuracy for Epoch 0: 58.63970588235294\n",
            "Training Loss Epoch: 0.6742586169172736\n",
            "Training Accuracy Epoch: 58.63970588235294\n",
            "\n",
            "Training Loss per 5000 steps: 0.8404585123062134\n",
            "Training Accuracy per 5000 steps: 50.0\n",
            "The Total Accuracy for Epoch 1: 71.13970588235294\n",
            "Training Loss Epoch: 0.5468846410512924\n",
            "Training Accuracy Epoch: 71.13970588235294\n",
            "\n",
            "Training Loss per 5000 steps: 0.5731978416442871\n",
            "Training Accuracy per 5000 steps: 25.0\n",
            "The Total Accuracy for Epoch 2: 84.55882352941177\n",
            "Training Loss Epoch: 0.3597814860644148\n",
            "Training Accuracy Epoch: 84.55882352941177\n",
            "\n",
            "Training Loss per 5000 steps: 0.13304409384727478\n",
            "Training Accuracy per 5000 steps: 100.0\n",
            "The Total Accuracy for Epoch 3: 91.54411764705883\n",
            "Training Loss Epoch: 0.2346815222682541\n",
            "Training Accuracy Epoch: 91.54411764705883\n",
            "\n",
            "Training Loss per 5000 steps: 0.040672749280929565\n",
            "Training Accuracy per 5000 steps: 100.0\n",
            "The Total Accuracy for Epoch 4: 94.66911764705883\n",
            "Training Loss Epoch: 0.1526383677880992\n",
            "Training Accuracy Epoch: 94.66911764705883\n",
            "\n",
            "Training Loss per 5000 steps: 0.026868673041462898\n",
            "Training Accuracy per 5000 steps: 100.0\n",
            "The Total Accuracy for Epoch 5: 95.40441176470588\n",
            "Training Loss Epoch: 0.14162410209503243\n",
            "Training Accuracy Epoch: 95.40441176470588\n",
            "\n",
            "Training Loss per 5000 steps: 0.021377600729465485\n",
            "Training Accuracy per 5000 steps: 100.0\n",
            "The Total Accuracy for Epoch 6: 96.69117647058823\n",
            "Training Loss Epoch: 0.11094189866322696\n",
            "Training Accuracy Epoch: 96.69117647058823\n",
            "\n",
            "Training Loss per 5000 steps: 0.0758858174085617\n",
            "Training Accuracy per 5000 steps: 100.0\n",
            "The Total Accuracy for Epoch 7: 95.95588235294117\n",
            "Training Loss Epoch: 0.10923338037066381\n",
            "Training Accuracy Epoch: 95.95588235294117\n",
            "\n",
            "Training Loss per 5000 steps: 0.1491704136133194\n",
            "Training Accuracy per 5000 steps: 100.0\n",
            "The Total Accuracy for Epoch 8: 97.61029411764706\n",
            "Training Loss Epoch: 0.07526767701047528\n",
            "Training Accuracy Epoch: 97.61029411764706\n",
            "\n",
            "Training Loss per 5000 steps: 0.010087160393595695\n",
            "Training Accuracy per 5000 steps: 100.0\n",
            "The Total Accuracy for Epoch 9: 97.24264705882354\n",
            "Training Loss Epoch: 0.08633717776598025\n",
            "Training Accuracy Epoch: 97.24264705882354\n",
            "\n",
            "Entering FOLD NR.  3\n",
            "\n",
            "Training Loss per 5000 steps: 0.7178636789321899\n",
            "Training Accuracy per 5000 steps: 25.0\n",
            "The Total Accuracy for Epoch 0: 58.455882352941174\n",
            "Training Loss Epoch: 0.6786194693516282\n",
            "Training Accuracy Epoch: 58.455882352941174\n",
            "\n",
            "Training Loss per 5000 steps: 0.6205929517745972\n",
            "Training Accuracy per 5000 steps: 75.0\n",
            "The Total Accuracy for Epoch 1: 63.786764705882355\n",
            "Training Loss Epoch: 0.612085148363429\n",
            "Training Accuracy Epoch: 63.786764705882355\n",
            "\n",
            "Training Loss per 5000 steps: 0.2861366271972656\n",
            "Training Accuracy per 5000 steps: 100.0\n",
            "The Total Accuracy for Epoch 2: 82.53676470588235\n",
            "Training Loss Epoch: 0.37823422518832717\n",
            "Training Accuracy Epoch: 82.53676470588235\n",
            "\n",
            "Training Loss per 5000 steps: 0.060995928943157196\n",
            "Training Accuracy per 5000 steps: 100.0\n",
            "The Total Accuracy for Epoch 3: 89.33823529411765\n",
            "Training Loss Epoch: 0.2461732044158613\n",
            "Training Accuracy Epoch: 89.33823529411765\n",
            "\n",
            "Training Loss per 5000 steps: 0.039007436484098434\n",
            "Training Accuracy per 5000 steps: 100.0\n",
            "The Total Accuracy for Epoch 4: 93.93382352941177\n",
            "Training Loss Epoch: 0.15551085686585045\n",
            "Training Accuracy Epoch: 93.93382352941177\n",
            "\n",
            "Training Loss per 5000 steps: 0.10303189605474472\n",
            "Training Accuracy per 5000 steps: 100.0\n",
            "The Total Accuracy for Epoch 5: 95.22058823529412\n",
            "Training Loss Epoch: 0.11938346769003307\n",
            "Training Accuracy Epoch: 95.22058823529412\n",
            "\n",
            "Training Loss per 5000 steps: 0.19444988667964935\n",
            "Training Accuracy per 5000 steps: 100.0\n",
            "The Total Accuracy for Epoch 6: 94.8529411764706\n",
            "Training Loss Epoch: 0.13492333288099068\n",
            "Training Accuracy Epoch: 94.8529411764706\n",
            "\n",
            "Training Loss per 5000 steps: 0.03463898226618767\n",
            "Training Accuracy per 5000 steps: 100.0\n",
            "The Total Accuracy for Epoch 7: 96.13970588235294\n",
            "Training Loss Epoch: 0.09684123335276074\n",
            "Training Accuracy Epoch: 96.13970588235294\n",
            "\n",
            "Training Loss per 5000 steps: 0.516650915145874\n",
            "Training Accuracy per 5000 steps: 75.0\n",
            "The Total Accuracy for Epoch 8: 96.13970588235294\n",
            "Training Loss Epoch: 0.11273763168548398\n",
            "Training Accuracy Epoch: 96.13970588235294\n",
            "\n",
            "Training Loss per 5000 steps: 0.012068298645317554\n",
            "Training Accuracy per 5000 steps: 100.0\n",
            "The Total Accuracy for Epoch 9: 98.71323529411765\n",
            "Training Loss Epoch: 0.05070144458851941\n",
            "Training Accuracy Epoch: 98.71323529411765\n",
            "\n",
            "Entering FOLD NR.  4\n",
            "\n",
            "Training Loss per 5000 steps: 0.7682992815971375\n",
            "Training Accuracy per 5000 steps: 0.0\n",
            "The Total Accuracy for Epoch 0: 62.31617647058823\n",
            "Training Loss Epoch: 0.6476723665700239\n",
            "Training Accuracy Epoch: 62.31617647058823\n",
            "\n",
            "Training Loss per 5000 steps: 0.6482793688774109\n",
            "Training Accuracy per 5000 steps: 75.0\n",
            "The Total Accuracy for Epoch 1: 78.125\n",
            "Training Loss Epoch: 0.46126910173060265\n",
            "Training Accuracy Epoch: 78.125\n",
            "\n",
            "Training Loss per 5000 steps: 0.7281438112258911\n",
            "Training Accuracy per 5000 steps: 75.0\n",
            "The Total Accuracy for Epoch 2: 87.5\n",
            "Training Loss Epoch: 0.31526085731628184\n",
            "Training Accuracy Epoch: 87.5\n",
            "\n",
            "Training Loss per 5000 steps: 0.11450637131929398\n",
            "Training Accuracy per 5000 steps: 100.0\n",
            "The Total Accuracy for Epoch 3: 91.7279411764706\n",
            "Training Loss Epoch: 0.22642814818605342\n",
            "Training Accuracy Epoch: 91.7279411764706\n",
            "\n",
            "Training Loss per 5000 steps: 0.08173733949661255\n",
            "Training Accuracy per 5000 steps: 100.0\n",
            "The Total Accuracy for Epoch 4: 92.83088235294117\n",
            "Training Loss Epoch: 0.20211303245057077\n",
            "Training Accuracy Epoch: 92.83088235294117\n",
            "\n",
            "Training Loss per 5000 steps: 0.016921762377023697\n",
            "Training Accuracy per 5000 steps: 100.0\n",
            "The Total Accuracy for Epoch 5: 95.95588235294117\n",
            "Training Loss Epoch: 0.1484849315670812\n",
            "Training Accuracy Epoch: 95.95588235294117\n",
            "\n",
            "Training Loss per 5000 steps: 0.03035532683134079\n",
            "Training Accuracy per 5000 steps: 100.0\n",
            "The Total Accuracy for Epoch 6: 92.83088235294117\n",
            "Training Loss Epoch: 0.18273969330852302\n",
            "Training Accuracy Epoch: 92.83088235294117\n",
            "\n",
            "Training Loss per 5000 steps: 0.08342819660902023\n",
            "Training Accuracy per 5000 steps: 100.0\n",
            "The Total Accuracy for Epoch 7: 97.42647058823529\n",
            "Training Loss Epoch: 0.10198434280669864\n",
            "Training Accuracy Epoch: 97.42647058823529\n",
            "\n",
            "Training Loss per 5000 steps: 0.02113044634461403\n",
            "Training Accuracy per 5000 steps: 100.0\n",
            "The Total Accuracy for Epoch 8: 96.50735294117646\n",
            "Training Loss Epoch: 0.11189696672098602\n",
            "Training Accuracy Epoch: 96.50735294117646\n",
            "\n",
            "Training Loss per 5000 steps: 0.016151584684848785\n",
            "Training Accuracy per 5000 steps: 100.0\n",
            "The Total Accuracy for Epoch 9: 98.16176470588235\n",
            "Training Loss Epoch: 0.07629854391287903\n",
            "Training Accuracy Epoch: 98.16176470588235\n"
          ]
        }
      ],
      "source": [
        "for i in range(0,fold_nr):\n",
        "  print(\"\\nEntering FOLD NR. \", i)\n",
        "  for epoch in range(EPOCHS):\n",
        "    train(epoch,model[i],optimizer[i],training_loader[i])"
      ]
    },
    {
      "cell_type": "markdown",
      "source": [
        "# Evaluate the test set on the fine-tuned model."
      ],
      "metadata": {
        "id": "6_1zvnOBUXYC"
      }
    },
    {
      "cell_type": "code",
      "source": [
        "print('This is the validation section to print the accuracy and see how it performs')\n",
        "print('Here we are leveraging on the dataloader crearted for the validation dataset, the approcah is using more of pytorch')\n",
        "for i in range(0,fold_nr):\n",
        "  print(\"\\nEntering FOLD NR. \", i)\n",
        "  acc = valid(model[i], testing_loader[i])\n",
        "  print(\"Accuracy on test data = %0.2f%%\" % acc)"
      ],
      "metadata": {
        "id": "-TqE0rGlUXBo",
        "colab": {
          "base_uri": "https://localhost:8080/"
        },
        "outputId": "b1af150e-1b49-429a-aad9-dea17da4be2e"
      },
      "execution_count": 15,
      "outputs": [
        {
          "output_type": "stream",
          "name": "stdout",
          "text": [
            "This is the validation section to print the accuracy and see how it performs\n",
            "Here we are leveraging on the dataloader crearted for the validation dataset, the approcah is using more of pytorch\n",
            "\n",
            "Entering FOLD NR.  0\n",
            "Validation Loss per 100 steps: 0.02026621624827385\n",
            "Validation Accuracy per 100 steps: 100.0\n",
            "Validation Loss Epoch: 0.2289330741383738\n",
            "Validation Accuracy Epoch: 93.38235294117646\n",
            "Accuracy on test data = 93.38%\n",
            "\n",
            "Entering FOLD NR.  1\n",
            "Validation Loss per 100 steps: 0.004040179308503866\n",
            "Validation Accuracy per 100 steps: 100.0\n",
            "Validation Loss Epoch: 0.35508322855457664\n",
            "Validation Accuracy Epoch: 89.70588235294117\n",
            "Accuracy on test data = 89.71%\n",
            "\n",
            "Entering FOLD NR.  2\n",
            "Validation Loss per 100 steps: 0.037823792546987534\n",
            "Validation Accuracy per 100 steps: 100.0\n",
            "Validation Loss Epoch: 0.10911180744262632\n",
            "Validation Accuracy Epoch: 97.05882352941177\n",
            "Accuracy on test data = 97.06%\n",
            "\n",
            "Entering FOLD NR.  3\n",
            "Validation Loss per 100 steps: 0.0023250896483659744\n",
            "Validation Accuracy per 100 steps: 100.0\n",
            "Validation Loss Epoch: 0.43993104282451573\n",
            "Validation Accuracy Epoch: 87.5\n",
            "Accuracy on test data = 87.50%\n",
            "\n",
            "Entering FOLD NR.  4\n",
            "Validation Loss per 100 steps: 0.12478455156087875\n",
            "Validation Accuracy per 100 steps: 100.0\n",
            "Validation Loss Epoch: 0.12463701202068478\n",
            "Validation Accuracy Epoch: 96.32352941176471\n",
            "Accuracy on test data = 96.32%\n"
          ]
        }
      ]
    },
    {
      "cell_type": "markdown",
      "metadata": {
        "id": "lLbwK-Mrg94v"
      },
      "source": [
        "# Saving the Trained Model Artifacts for inference\n",
        "\n",
        "This is the final step in the process of fine tuning the model.\n",
        "\n",
        "The model and its vocabulary are saved locally. These files are then used in the future to make inference on new inputs of news headlines.\n",
        "\n",
        "Please remember that a trained neural network is only useful when used in actual inference after its training.\n",
        "\n",
        "In the lifecycle of an ML projects this is only half the job done. We will leave the inference of these models for some other day."
      ]
    },
    {
      "cell_type": "code",
      "execution_count": null,
      "metadata": {
        "id": "492L-lBBg94v"
      },
      "outputs": [],
      "source": [
        "# Saving the files for re-use\n",
        "\n",
        "output_model_file = './models/pytorch_distilbert_news.bin'\n",
        "output_vocab_file = './models/vocab_distilbert_news.bin'\n",
        "\n",
        "model_to_save = model\n",
        "torch.save(model_to_save, output_model_file)\n",
        "tokenizer.save_vocabulary(output_vocab_file)\n",
        "\n",
        "print('All files saved')\n",
        "print('This tutorial is completed')"
      ]
    }
  ],
  "metadata": {
    "colab": {
      "provenance": [],
      "include_colab_link": true
    },
    "kernelspec": {
      "display_name": "Python 3",
      "language": "python",
      "name": "python3"
    },
    "varInspector": {
      "cols": {
        "lenName": 16,
        "lenType": 16,
        "lenVar": 40
      },
      "kernels_config": {
        "python": {
          "delete_cmd_postfix": "",
          "delete_cmd_prefix": "del ",
          "library": "var_list.py",
          "varRefreshCmd": "print(var_dic_list())"
        },
        "r": {
          "delete_cmd_postfix": ") ",
          "delete_cmd_prefix": "rm(",
          "library": "var_list.r",
          "varRefreshCmd": "cat(var_dic_list()) "
        }
      },
      "types_to_exclude": [
        "module",
        "function",
        "builtin_function_or_method",
        "instance",
        "_Feature"
      ],
      "window_display": false
    }
  },
  "nbformat": 4,
  "nbformat_minor": 0
}
