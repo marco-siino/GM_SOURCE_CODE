{
  "cells": [
    {
      "cell_type": "markdown",
      "metadata": {
        "id": "view-in-github",
        "colab_type": "text"
      },
      "source": [
        "<a href=\"https://colab.research.google.com/github/marco-siino/GM_SOURCE_CODE/blob/main/NVIDIA_DS/CodeT5/GM_NVIDIA_DS_FOLD_4_CodeT5_classification.ipynb\" target=\"_parent\"><img src=\"https://colab.research.google.com/assets/colab-badge.svg\" alt=\"Open In Colab\"/></a>"
      ]
    },
    {
      "cell_type": "markdown",
      "metadata": {
        "id": "nPKzuFL8P9fs"
      },
      "source": [
        "## 1. Setup Development Environment\n",
        "\n",
        "Our first step is to install the Hugging Face Libraries, including transformers and datasets. Running the following cell will install all the required packages."
      ]
    },
    {
      "cell_type": "markdown",
      "metadata": {
        "id": "CEcR1RUTBMr5"
      },
      "source": [
        "## Import dependencies"
      ]
    },
    {
      "cell_type": "code",
      "execution_count": 1,
      "metadata": {
        "id": "jPfcxpCc3_Bd"
      },
      "outputs": [],
      "source": [
        "import pandas as pd\n",
        "#import matplotlib.pyplot as plt\n",
        "import os\n",
        "import re\n",
        "import glob\n",
        "from datasets import load_dataset\n",
        "import datasets\n",
        "import torch\n",
        "from sklearn.model_selection import KFold\n",
        "from datasets import load_dataset\n",
        "from datasets import Dataset\n",
        "import random\n",
        "from datasets.dataset_dict import DatasetDict\n",
        "from datasets import concatenate_datasets"
      ]
    },
    {
      "cell_type": "markdown",
      "metadata": {
        "id": "gzO3GxtLP9fz"
      },
      "source": [
        "## 2. Load and prepare the dataset\n",
        "\n"
      ]
    },
    {
      "cell_type": "code",
      "source": [
        "# Import the csv into pandas dataframe and add the headers\n",
        "\n",
        "df = pd.read_csv('dataset-devmap-nvidia.csv',sep=',')\n",
        "#df = pd.concat(map(pd.read_csv, ['dataset-devmap-nvidia.csv', 'dataset-devmap-amd.csv']))\n",
        "#df = pd.read_csv('dataset-devmap-nvidia.csv', sep='\\t', names=['benchmark','dataset','comp','rational','mem','localmem','coalesced','atomic','transfer','wgsize','oracle','runtime_cpu','runtime_gpu','src','seq'])\n",
        "#print(df.head())\n",
        "# Now include transfer and wgsize columns into the src column.\n",
        "df['src'] = df['transfer'].astype(str) +\" - \"+ df['wgsize'].astype(str) +\" - \"+df[\"src\"]\n",
        "# # Removing unwanted columns and only leaving title of news and the category which will be the target\n",
        "df = df[['src','oracle']]\n",
        "#print(df.head())\n",
        "\n",
        "encode_dict = {}\n",
        "\n",
        "def encode_cat(x):\n",
        "    if x == \"GPU\":\n",
        "      encode_dict[x]=1\n",
        "    else:\n",
        "      encode_dict[x]=0\n",
        "    return encode_dict[x]\n",
        "\n",
        "df['ENCODE_CAT'] = df['oracle'].apply(lambda x: encode_cat(x))\n",
        "\n",
        "print(df)\n",
        "\n",
        "df = df.sample(frac=1, random_state=1).reset_index(drop=True)\n",
        "\n",
        "print(df)"
      ],
      "metadata": {
        "colab": {
          "base_uri": "https://localhost:8080/"
        },
        "id": "LvPLgQHY4QJe",
        "outputId": "a7f70478-d9b0-43fd-da96-6d1da7b09ffa"
      },
      "execution_count": 2,
      "outputs": [
        {
          "output_type": "stream",
          "name": "stdout",
          "text": [
            "                                                   src oracle  ENCODE_CAT\n",
            "0    2048 - 255 - __kernel void A(int a, const __gl...    GPU           1\n",
            "1    131072 - 256 - __kernel void A(__global uint* ...    GPU           1\n",
            "2    3145728 - 256 - extern void B(float4 a, float4...    GPU           1\n",
            "3    4096 - 256 - __kernel void A(__global float* a...    GPU           1\n",
            "4    524288 - 256 - __kernel void A(__global uint* ...    CPU           0\n",
            "..                                                 ...    ...         ...\n",
            "675  2000628 - 128 - __kernel void A(__global const...    CPU           0\n",
            "676  2000628 - 128 - __kernel void A(__global const...    CPU           0\n",
            "677  71647488 - 0 - extern int D(__private int, __p...    CPU           0\n",
            "678  71647488 - 256 - extern int B(int, int, int);\\...    CPU           0\n",
            "679  117440512 - 128 - __kernel void A(__global con...    CPU           0\n",
            "\n",
            "[680 rows x 3 columns]\n",
            "                                                   src oracle  ENCODE_CAT\n",
            "0    6346800 - 52 - __kernel void A(__global double...    CPU           0\n",
            "1    15949464 - 48 - __kernel void A(__global const...    GPU           1\n",
            "2    14742140 - 128 - extern double __clc_pow(const...    CPU           0\n",
            "3    15948384 - 2 - extern void B(double m, double ...    CPU           0\n",
            "4    755867256 - 64 - __kernel void A(__global doub...    GPU           1\n",
            "..                                                 ...    ...         ...\n",
            "675  14742140 - 128 - __kernel void A(__global doub...    GPU           1\n",
            "676  57594120 - 128 - __kernel void A(__global cons...    CPU           0\n",
            "677  320454824 - 64 - extern void B(double, double,...    GPU           1\n",
            "678  1344811536 - 26 - extern void D(__private doub...    GPU           1\n",
            "679  1313673512 - 32 - __kernel void A(__global con...    GPU           1\n",
            "\n",
            "[680 rows x 3 columns]\n"
          ]
        }
      ]
    },
    {
      "cell_type": "code",
      "source": [
        "df = df[['src','ENCODE_CAT']]\n",
        "df= df.rename(columns={\"src\": \"text\", \"ENCODE_CAT\": \"label\"})\n",
        "print(df)"
      ],
      "metadata": {
        "colab": {
          "base_uri": "https://localhost:8080/"
        },
        "id": "BIIu9UOL42qF",
        "outputId": "5f2548dc-07a6-4813-c213-b9a207052950"
      },
      "execution_count": 3,
      "outputs": [
        {
          "output_type": "stream",
          "name": "stdout",
          "text": [
            "                                                  text  label\n",
            "0    6346800 - 52 - __kernel void A(__global double...      0\n",
            "1    15949464 - 48 - __kernel void A(__global const...      1\n",
            "2    14742140 - 128 - extern double __clc_pow(const...      0\n",
            "3    15948384 - 2 - extern void B(double m, double ...      0\n",
            "4    755867256 - 64 - __kernel void A(__global doub...      1\n",
            "..                                                 ...    ...\n",
            "675  14742140 - 128 - __kernel void A(__global doub...      1\n",
            "676  57594120 - 128 - __kernel void A(__global cons...      0\n",
            "677  320454824 - 64 - extern void B(double, double,...      1\n",
            "678  1344811536 - 26 - extern void D(__private doub...      1\n",
            "679  1313673512 - 32 - __kernel void A(__global con...      1\n",
            "\n",
            "[680 rows x 2 columns]\n"
          ]
        }
      ]
    },
    {
      "cell_type": "code",
      "source": [
        "# Each i-train fold can be accessed with df_train[i]. Same for test.\n",
        "fold_nr = 5\n",
        "\n",
        "kf = KFold(n_splits=5, random_state=None, shuffle=False)\n",
        "\n",
        "df_train = []\n",
        "df_test = []\n",
        "model = []\n",
        "\n",
        "for i, (train_index, test_index) in enumerate(kf.split(df)):\n",
        "  df_train.append(df.iloc[train_index])\n",
        "  df_test.append(df.iloc[test_index])\n",
        "# print(df_train[0])\n",
        "\n",
        "for i in range(0,fold_nr):\n",
        "  df_train[i] = df_train[i].reset_index(drop=True)\n",
        "  df_test[i] = df_test[i].reset_index(drop=True)"
      ],
      "metadata": {
        "id": "fw5g0E1X5qNs"
      },
      "execution_count": 4,
      "outputs": []
    },
    {
      "cell_type": "code",
      "source": [
        "fold = 4\n",
        "\n",
        "dataset = {'train':Dataset.from_dict({'text': df_train[fold]['text'],'label':df_train[fold]['label']}),\n",
        "     'test':Dataset.from_dict({'text': df_test[fold]['text'],'label':df_test[fold]['label']})\n",
        "     }\n",
        "dataset = DatasetDict({'train': dataset['train'], 'test': dataset['test']})\n",
        "DatasetDict(dataset)"
      ],
      "metadata": {
        "colab": {
          "base_uri": "https://localhost:8080/"
        },
        "id": "rRXAxvrLySsS",
        "outputId": "b54c119d-58ea-4c34-f914-89aa1df479ed"
      },
      "execution_count": 5,
      "outputs": [
        {
          "output_type": "execute_result",
          "data": {
            "text/plain": [
              "DatasetDict({\n",
              "    train: Dataset({\n",
              "        features: ['text', 'label'],\n",
              "        num_rows: 544\n",
              "    })\n",
              "    test: Dataset({\n",
              "        features: ['text', 'label'],\n",
              "        num_rows: 136\n",
              "    })\n",
              "})"
            ]
          },
          "metadata": {},
          "execution_count": 5
        }
      ]
    },
    {
      "cell_type": "markdown",
      "metadata": {
        "id": "ricSiCLrP9f2"
      },
      "source": [
        "Lets checkout an example of the dataset."
      ]
    },
    {
      "cell_type": "code",
      "source": [
        "df_train[4]['text']"
      ],
      "metadata": {
        "colab": {
          "base_uri": "https://localhost:8080/"
        },
        "id": "O-Xms16QKC1I",
        "outputId": "9836a0b0-7331-42ce-e5f6-791b8ad47b99"
      },
      "execution_count": 6,
      "outputs": [
        {
          "output_type": "execute_result",
          "data": {
            "text/plain": [
              "0      6346800 - 52 - __kernel void A(__global double...\n",
              "1      15949464 - 48 - __kernel void A(__global const...\n",
              "2      14742140 - 128 - extern double __clc_pow(const...\n",
              "3      15948384 - 2 - extern void B(double m, double ...\n",
              "4      755867256 - 64 - __kernel void A(__global doub...\n",
              "                             ...                        \n",
              "539    1313673032 - 32 - __kernel void A(__global dou...\n",
              "540    804152 - 60 - __kernel void A(__global double*...\n",
              "541    98304 - 64 - extern double B(int, double *, do...\n",
              "542    57594120 - 128 - __kernel void A(__global cons...\n",
              "543    6291464 - 64 - extern void B(float2 *, float2 ...\n",
              "Name: text, Length: 544, dtype: object"
            ]
          },
          "metadata": {},
          "execution_count": 6
        }
      ]
    },
    {
      "cell_type": "code",
      "execution_count": 7,
      "metadata": {
        "id": "vgPKUEa1b_50",
        "colab": {
          "base_uri": "https://localhost:8080/"
        },
        "outputId": "3d15a3a8-8c2e-4cbd-eb66-0a672c34ec46"
      },
      "outputs": [
        {
          "output_type": "execute_result",
          "data": {
            "text/plain": [
              "{'text': '15949464 - 48 - __kernel void A(__global const double* a, __global double* b, __global double* c, __global double* d, __global double* e, __global double* f, __global double* g, int h, int i, int j) {\\n  int k, l, m;\\n  double n;\\n  double o[4];\\n  double p;\\n\\n  m = get_global_id(2);\\n  l = get_global_id(1);\\n  k = get_global_id(0);\\n  if (m >= j || l >= i || k >= h)\\n    return;\\n\\n  __global double(*q)[12 / 2 * 2 + 1][12 / 2 * 2 + 1][5] = (__global double(*)[12 / 2 * 2 + 1][12 / 2 * 2 + 1][5])a;\\n  __global double(*r)[12 / 2 * 2 + 1][12 / 2 * 2 + 1] = (__global double(*)[12 / 2 * 2 + 1][12 / 2 * 2 + 1])b;\\n  __global double(*s)[12 / 2 * 2 + 1][12 / 2 * 2 + 1] = (__global double(*)[12 / 2 * 2 + 1][12 / 2 * 2 + 1])c;\\n  __global double(*t)[12 / 2 * 2 + 1][12 / 2 * 2 + 1] = (__global double(*)[12 / 2 * 2 + 1][12 / 2 * 2 + 1])d;\\n  __global double(*u)[12 / 2 * 2 + 1][12 / 2 * 2 + 1] = (__global double(*)[12 / 2 * 2 + 1][12 / 2 * 2 + 1])e;\\n  __global double(*v)[12 / 2 * 2 + 1][12 / 2 * 2 + 1] = (__global double(*)[12 / 2 * 2 + 1][12 / 2 * 2 + 1])f;\\n  __global double(*w)[12 / 2 * 2 + 1][12 / 2 * 2 + 1] = (__global double(*)[12 / 2 * 2 + 1][12 / 2 * 2 + 1])g;\\n\\n  o[0] = q[m][l][k][0];\\n  o[1] = q[m][l][k][1];\\n  o[2] = q[m][l][k][2];\\n  o[3] = q[m][l][k][3];\\n\\n  n = 1.0 / o[0];\\n  v[m][l][k] = n;\\n  r[m][l][k] = o[1] * n;\\n  s[m][l][k] = o[2] * n;\\n  t[m][l][k] = o[3] * n;\\n  p = 0.5 * (o[1] * o[1] + o[2] * o[2] + o[3] * o[3]) * n;\\n  w[m][l][k] = p;\\n  u[m][l][k] = p * n;\\n}\\n\\n',\n",
              " 'label': 1}"
            ]
          },
          "metadata": {},
          "execution_count": 7
        }
      ],
      "source": [
        "dataset['train'][1]"
      ]
    },
    {
      "cell_type": "markdown",
      "metadata": {
        "id": "9NIR6GzgP9f3"
      },
      "source": [
        "# To train our model we need to convert our inputs (text) to token IDs. This is done by a 🤗 Transformers Tokenizer. If you are not sure what this means check out [chapter 6](https://huggingface.co/course/chapter6/1?fw=tf) of the Hugging Face Course."
      ]
    },
    {
      "cell_type": "code",
      "execution_count": 8,
      "metadata": {
        "id": "qy3D0-vsP9f4"
      },
      "outputs": [],
      "source": [
        "from transformers import AutoTokenizer, AutoModelForSeq2SeqLM\n",
        "\n",
        "device = \"cuda:0\" if torch.cuda.is_available() else \"cpu\"\n",
        "model_id=\"Salesforce/codet5-base\"\n",
        "#model_id = \"codellama/CodeLlama-7b-hf\"\n",
        "tokenizer = AutoTokenizer.from_pretrained(model_id)"
      ]
    },
    {
      "cell_type": "markdown",
      "metadata": {
        "id": "ujbT1cMXP9f4"
      },
      "source": [
        "before we can start training we need to preprocess our data. Abstractive flan t5 is good for a text2text-generation task. This means our model will take a text as input and generate a text as output. For this we want to understand how long our input and output will be to be able to efficiently batch our data.\n",
        "- as result, we should to convert label from int to string"
      ]
    },
    {
      "cell_type": "code",
      "execution_count": 9,
      "metadata": {
        "id": "R5gXGYlZ0czz"
      },
      "outputs": [],
      "source": [
        "# dataset['train'] = dataset['train'].shuffle(seed=42).select(range(2000))\n",
        "# dataset['test'] = dataset['test'].shuffle(seed=42).select(range(1000))\n",
        "\n",
        "#dataset['train'] = dataset['train'].shuffle(seed=42)\n",
        "\n",
        "# per ora faccio solo fold 0.\n",
        "#train_df = pd.DataFrame(dataset['train'])\n",
        "#test_df = pd.DataFrame(dataset['test'])\n",
        "train_df = df_train[fold]\n",
        "test_df = df_test[fold]\n",
        "\n",
        "\n",
        "dataset.clear()\n",
        "train_df['label'] = train_df['label'].astype(str)\n",
        "test_df['label'] = test_df['label'].astype(str)\n",
        "dataset['train'] = Dataset.from_pandas(train_df)\n",
        "dataset['test'] = Dataset.from_pandas(test_df)"
      ]
    },
    {
      "cell_type": "code",
      "execution_count": 10,
      "metadata": {
        "colab": {
          "base_uri": "https://localhost:8080/",
          "height": 52,
          "referenced_widgets": [
            "f90ae72cb4d64eec829fc060acd09d47",
            "f5c2f5b730fe40408fcb1c8180c78951",
            "d3a358af618745608f518662107b1855",
            "7fdd341627814da2a7229f0a223424af",
            "fd329d0d0bd145dcb01bb5a5aeb9cc83",
            "5ea01808b2fd444eb3a22ca9e48c687a",
            "c45a4845100c4d1799a7af5c4c94d602",
            "2469caf523164b61bc01fa3f8ca2115a",
            "fe62d91e90c54c0294d716047cc8fe4d",
            "7aee39c0d0b24eb09255920c9e00352d",
            "f5a601a41cf345139c7924d454993cdc",
            "3e7b376c1af94c0a8562ee830a37eaa4",
            "370a20a5050a4034a944c09d0a4989f7",
            "452ea1b23e254dd292e814f7673e82b8",
            "d60fe07cac4c45279e162435dd95c448",
            "9a9348eaaba24f3dab9b0beb8aed2424",
            "4f1453ea955949a8b9c57c539a3d4283",
            "b3e646d001ea41198011646b69342909",
            "77a4f2081f474b03929df6af6aefc12a",
            "d20d203fa5ae446fb6af65b3df223fbd",
            "0333e6e88b75469680d88ab33bac9a47",
            "91aba1a2c8be4e4dbaaa27e5f0028d22"
          ]
        },
        "id": "exxzuraIc_Zb",
        "outputId": "4b57117a-4d26-4ba3-a9a4-f58e9a646250"
      },
      "outputs": [
        {
          "output_type": "display_data",
          "data": {
            "text/plain": [
              "Map:   0%|          | 0/680 [00:00<?, ? examples/s]"
            ],
            "application/vnd.jupyter.widget-view+json": {
              "version_major": 2,
              "version_minor": 0,
              "model_id": "f90ae72cb4d64eec829fc060acd09d47"
            }
          },
          "metadata": {}
        },
        {
          "output_type": "stream",
          "name": "stdout",
          "text": [
            "Max source length: 512\n"
          ]
        },
        {
          "output_type": "display_data",
          "data": {
            "text/plain": [
              "Map:   0%|          | 0/680 [00:00<?, ? examples/s]"
            ],
            "application/vnd.jupyter.widget-view+json": {
              "version_major": 2,
              "version_minor": 0,
              "model_id": "3e7b376c1af94c0a8562ee830a37eaa4"
            }
          },
          "metadata": {}
        },
        {
          "output_type": "stream",
          "name": "stdout",
          "text": [
            "Max target length: 3\n"
          ]
        }
      ],
      "source": [
        "# The maximum total input sequence length after tokenization.\n",
        "# Sequences longer than this will be truncated, sequences shorter will be padded.\n",
        "tokenized_inputs = concatenate_datasets([dataset[\"train\"], dataset[\"test\"]]).map(lambda x: tokenizer(x[\"text\"], truncation=True), batched=True, remove_columns=['text', 'label'])\n",
        "max_source_length = max([len(x) for x in tokenized_inputs[\"input_ids\"]])\n",
        "print(f\"Max source length: {max_source_length}\")\n",
        "\n",
        "# The maximum total sequence length for target text after tokenization.\n",
        "# Sequences longer than this will be truncated, sequences shorter will be padded.\"\n",
        "tokenized_targets = concatenate_datasets([dataset[\"train\"], dataset[\"test\"]]).map(lambda x: tokenizer(x[\"label\"], truncation=True), batched=True, remove_columns=['text', 'label'])\n",
        "max_target_length = max([len(x) for x in tokenized_targets[\"input_ids\"]])\n",
        "print(f\"Max target length: {max_target_length}\")"
      ]
    },
    {
      "cell_type": "code",
      "execution_count": 11,
      "metadata": {
        "colab": {
          "base_uri": "https://localhost:8080/",
          "height": 34,
          "referenced_widgets": [
            "dfd63fe43f4a4f8baff4fefa7dbbdb8e",
            "ab5d0454e0894bcca546b86cb7bb97a2",
            "d12f561e3b7747c3b38ff8a9ebc189f5",
            "267acea00a9c415983032e0eaac99391",
            "e322e4dcdd03403ba5cc18a898cc496e",
            "e533e02cc3df440e992efca850af47a0",
            "b3c1841a55154b219352ee81817d51cd",
            "12f5b60add554657a46ac29e4408847c",
            "ae943a075971419cbfaee46d0bdb7778",
            "ee30d3bedb4445a9b69631185d2fbe7a",
            "b076ab15db5447729bbaaebaafba22a7",
            "82eda9bb0b404888bc6bf42da42e3691",
            "42d70bfa8db440388a8e6c0c5cbc11ae",
            "3b859b54e3f04acf9cde2927dba70c69",
            "08151d33d392410abbd242c6996b948e",
            "a2103373f4f147d5be12f9461a615fff",
            "666cb17b65984bf5b92a88305c508848",
            "e72f2d3ccd324217aa2551eb879c43ed",
            "39bb6dac1c1a479b93331146bde82425",
            "82b525cea8e8475bb9374152067ec498",
            "c4d6804a68094742911510fad5a9d535",
            "3f02ebcfe0c640278ca3e38ebaa7b672"
          ]
        },
        "id": "sKKGwPR9P9f5",
        "outputId": "8c1967a7-a8d0-4c4f-bb49-e0e93cdb6371"
      },
      "outputs": [
        {
          "output_type": "display_data",
          "data": {
            "text/plain": [
              "Map:   0%|          | 0/544 [00:00<?, ? examples/s]"
            ],
            "application/vnd.jupyter.widget-view+json": {
              "version_major": 2,
              "version_minor": 0,
              "model_id": "dfd63fe43f4a4f8baff4fefa7dbbdb8e"
            }
          },
          "metadata": {}
        },
        {
          "output_type": "display_data",
          "data": {
            "text/plain": [
              "Map:   0%|          | 0/136 [00:00<?, ? examples/s]"
            ],
            "application/vnd.jupyter.widget-view+json": {
              "version_major": 2,
              "version_minor": 0,
              "model_id": "82eda9bb0b404888bc6bf42da42e3691"
            }
          },
          "metadata": {}
        },
        {
          "output_type": "stream",
          "name": "stdout",
          "text": [
            "Keys of tokenized dataset: ['input_ids', 'attention_mask', 'labels']\n"
          ]
        }
      ],
      "source": [
        "def preprocess_function(sample, padding=\"max_length\"):\n",
        "    # add prefix to the input for t5\n",
        "    inputs = [item for item in sample[\"text\"]]\n",
        "\n",
        "    #tokenizer.add_special_tokens({'pad_token': '[PAD]'})\n",
        "\n",
        "    # tokenize inputs\n",
        "    model_inputs = tokenizer(inputs, max_length=max_source_length, padding=padding, truncation=True)\n",
        "\n",
        "    # Tokenize targets with the `text_target` keyword argument\n",
        "    labels = tokenizer(text_target=sample[\"label\"], max_length=max_target_length, padding=padding, truncation=True)\n",
        "\n",
        "    # If we are padding here, replace all tokenizer.pad_token_id in the labels by -100 when we want to ignore\n",
        "    # padding in the loss.\n",
        "    if padding == \"max_length\":\n",
        "        labels[\"input_ids\"] = [\n",
        "            [(l if l != tokenizer.pad_token_id else -100) for l in label] for label in labels[\"input_ids\"]\n",
        "        ]\n",
        "\n",
        "    model_inputs[\"labels\"] = labels[\"input_ids\"]\n",
        "    return model_inputs\n",
        "\n",
        "tokenized_dataset = dataset.map(preprocess_function, batched=True, remove_columns=['text', 'label'])\n",
        "print(f\"Keys of tokenized dataset: {list(tokenized_dataset['train'].features)}\")"
      ]
    },
    {
      "cell_type": "markdown",
      "metadata": {
        "id": "zEbhOAeCP9f6"
      },
      "source": [
        "## 3. Fine-tune and evaluate CodeT5\n",
        "\n",
        "\n"
      ]
    },
    {
      "cell_type": "code",
      "execution_count": 12,
      "metadata": {
        "id": "swteeCAoP9f6"
      },
      "outputs": [],
      "source": [
        "from transformers import AutoModelForSeq2SeqLM\n",
        "\n",
        "# huggingface hub model id\n",
        "model_id=\"Salesforce/codet5-base\"\n",
        "#model_id = \"codellama/CodeLlama-7b-hf\"\n",
        "\n",
        "# load model from the hub\n",
        "model = AutoModelForSeq2SeqLM.from_pretrained(model_id).to(device)\n",
        "#model = LlamaModel.from_pretrained(\"codellama/CodeLlama-7b-hf\")"
      ]
    },
    {
      "cell_type": "markdown",
      "metadata": {
        "id": "0Dp2ZaLjP9f6"
      },
      "source": [
        "We want to evaluate our model during training. The `Trainer` supports evaluation during training by providing a `compute_metrics`.  \n",
        "The most commonly used metrics to evaluate summarization task is [rogue_score](https://en.wikipedia.org/wiki/ROUGE_(metric)) short for Recall-Oriented Understudy for Gisting Evaluation). This metric does not behave like the standard accuracy: it will compare a generated summary against a set of reference summaries\n",
        "\n",
        "We are going to use `evaluate` library to evaluate the `rogue` score."
      ]
    },
    {
      "cell_type": "code",
      "execution_count": 13,
      "metadata": {
        "id": "osGhQTz4P9f7"
      },
      "outputs": [],
      "source": [
        "import evaluate\n",
        "import nltk\n",
        "import numpy as np\n",
        "from nltk.tokenize import sent_tokenize\n",
        "#nltk.download(\"punkt\")\n",
        "\n",
        "# Metric\n",
        "#metric = evaluate.load(\"f1\")\n",
        "metric = evaluate.load(\"evaluate/metrics/accuracy\")\n",
        "\n",
        "# helper function to postprocess text\n",
        "def postprocess_text(preds, labels):\n",
        "    preds = [pred.strip() for pred in preds]\n",
        "    labels = [label.strip() for label in labels]\n",
        "\n",
        "    # rougeLSum expects newline after each sentence\n",
        "    preds = [\"\\n\".join(sent_tokenize(pred)) for pred in preds]\n",
        "    labels = [\"\\n\".join(sent_tokenize(label)) for label in labels]\n",
        "\n",
        "    return preds, labels\n",
        "\n",
        "def compute_metrics(eval_preds):\n",
        "    preds, labels = eval_preds\n",
        "    if isinstance(preds, tuple):\n",
        "        preds = preds[0]\n",
        "    decoded_preds = tokenizer.batch_decode(preds, skip_special_tokens=True)\n",
        "    # Replace -100 in the labels as we can't decode them.\n",
        "    labels = np.where(labels != -100, labels, tokenizer.pad_token_id)\n",
        "    decoded_labels = tokenizer.batch_decode(labels, skip_special_tokens=True)\n",
        "\n",
        "    # Some simple post-processing\n",
        "    decoded_preds, decoded_labels = postprocess_text(decoded_preds, decoded_labels)\n",
        "\n",
        "    #result = metric.compute(predictions=decoded_preds, references=decoded_labels, average='macro')\n",
        "    result = metric.compute(predictions=decoded_preds, references=decoded_labels)\n",
        "    result = {k: round(v * 100, 4) for k, v in result.items()}\n",
        "    prediction_lens = [np.count_nonzero(pred != tokenizer.pad_token_id) for pred in preds]\n",
        "    result[\"gen_len\"] = np.mean(prediction_lens)\n",
        "    return result"
      ]
    },
    {
      "cell_type": "markdown",
      "metadata": {
        "id": "9X0ZrYzTP9f8"
      },
      "source": [
        "Before we can start training is to create a `DataCollator` that will take care of padding our inputs and labels. We will use the `DataCollatorForSeq2Seq` from the 🤗 Transformers library."
      ]
    },
    {
      "cell_type": "code",
      "execution_count": 14,
      "metadata": {
        "id": "hXJvOMTnP9f8"
      },
      "outputs": [],
      "source": [
        "from transformers import DataCollatorForSeq2Seq\n",
        "\n",
        "# we want to ignore tokenizer pad token in the loss\n",
        "label_pad_token_id = -100\n",
        "# Data collator\n",
        "data_collator = DataCollatorForSeq2Seq(\n",
        "    tokenizer,\n",
        "    model=model,\n",
        "    label_pad_token_id=label_pad_token_id,\n",
        "    pad_to_multiple_of=8\n",
        ")\n"
      ]
    },
    {
      "cell_type": "markdown",
      "metadata": {
        "id": "oE_7wq32P9f8"
      },
      "source": [
        "The last step is to define the hyperparameters (`TrainingArguments`) we want to use for our training. We are leveraging the [Hugging Face Hub](https://huggingface.co/models) integration of the `Trainer` to automatically push our checkpoints, logs and metrics during training into a repository."
      ]
    },
    {
      "cell_type": "code",
      "execution_count": 15,
      "metadata": {
        "id": "6ZxlsgznP9f9",
        "colab": {
          "base_uri": "https://localhost:8080/"
        },
        "outputId": "bdc297b2-2fa9-4e2c-ab71-1f29526a4876"
      },
      "outputs": [
        {
          "output_type": "stream",
          "name": "stderr",
          "text": [
            "Detected kernel version 4.18.0, which is below the recommended minimum of 5.5.0; this can cause the process to hang. It is recommended to upgrade the kernel to the minimum version or higher.\n"
          ]
        }
      ],
      "source": [
        "from huggingface_hub import HfFolder\n",
        "from transformers import Seq2SeqTrainer, Seq2SeqTrainingArguments\n",
        "\n",
        "# Hugging Face repository id\n",
        "repository_id = f\"{model_id.split('/')[1]}-imdb-text-classification\"\n",
        "\n",
        "# Define training args\n",
        "training_args = Seq2SeqTrainingArguments(\n",
        "    output_dir=repository_id,\n",
        "    per_device_train_batch_size=8,\n",
        "    per_device_eval_batch_size=8,\n",
        "    predict_with_generate=True,\n",
        "    fp16=False, # Overflows with fp16\n",
        "    learning_rate=3e-4,\n",
        "\n",
        "    num_train_epochs=10,\n",
        "    # logging & evaluation strategies\n",
        "    logging_dir=f\"{repository_id}/logs\",\n",
        "    logging_strategy=\"epoch\",\n",
        "    # logging_steps=1000,\n",
        "    evaluation_strategy=\"no\",\n",
        "    save_strategy = \"no\",\n",
        "    #save_strategy=\"epoch\",\n",
        "    save_total_limit=2,\n",
        "    load_best_model_at_end=False,\n",
        "    # metric_for_best_model=\"overall_f1\",\n",
        "    # push to hub parameters\n",
        "    report_to=\"tensorboard\",\n",
        "    push_to_hub=False,\n",
        "    hub_strategy=\"every_save\",\n",
        "    hub_model_id=repository_id,\n",
        "    hub_token=HfFolder.get_token(),\n",
        ")\n",
        "\n",
        "# Create Trainer instance\n",
        "trainer = Seq2SeqTrainer(\n",
        "    model=model,\n",
        "    args=training_args,\n",
        "    data_collator=data_collator,\n",
        "    train_dataset=tokenized_dataset[\"train\"],\n",
        "    eval_dataset=tokenized_dataset[\"test\"],\n",
        "    compute_metrics=compute_metrics,\n",
        ")"
      ]
    },
    {
      "cell_type": "markdown",
      "metadata": {
        "id": "gTfdbwXfP9f9"
      },
      "source": [
        "We can start our training by using the `train` method of the `Trainer`."
      ]
    },
    {
      "cell_type": "code",
      "execution_count": 16,
      "metadata": {
        "colab": {
          "base_uri": "https://localhost:8080/",
          "height": 478
        },
        "id": "f8KanGHpP9f-",
        "outputId": "5b6572bf-4edf-4c7b-ae38-0b45325fa451"
      },
      "outputs": [
        {
          "output_type": "stream",
          "name": "stderr",
          "text": [
            "/leonardo/home/userexternal/msiino00/clean-updated-env/lib/python3.10/site-packages/torch/nn/parallel/_functions.py:68: UserWarning: Was asked to gather along dimension 0, but all input tensors were scalars; will instead unsqueeze and return a vector.\n",
            "  warnings.warn('Was asked to gather along dimension 0, but all '\n"
          ]
        },
        {
          "output_type": "display_data",
          "data": {
            "text/plain": [
              "<IPython.core.display.HTML object>"
            ],
            "text/html": [
              "\n",
              "    <div>\n",
              "      \n",
              "      <progress value='340' max='340' style='width:300px; height:20px; vertical-align: middle;'></progress>\n",
              "      [340/340 02:46, Epoch 10/10]\n",
              "    </div>\n",
              "    <table border=\"1\" class=\"dataframe\">\n",
              "  <thead>\n",
              " <tr style=\"text-align: left;\">\n",
              "      <th>Step</th>\n",
              "      <th>Training Loss</th>\n",
              "    </tr>\n",
              "  </thead>\n",
              "  <tbody>\n",
              "    <tr>\n",
              "      <td>34</td>\n",
              "      <td>0.762600</td>\n",
              "    </tr>\n",
              "    <tr>\n",
              "      <td>68</td>\n",
              "      <td>0.213300</td>\n",
              "    </tr>\n",
              "    <tr>\n",
              "      <td>102</td>\n",
              "      <td>0.172200</td>\n",
              "    </tr>\n",
              "    <tr>\n",
              "      <td>136</td>\n",
              "      <td>0.142900</td>\n",
              "    </tr>\n",
              "    <tr>\n",
              "      <td>170</td>\n",
              "      <td>0.092000</td>\n",
              "    </tr>\n",
              "    <tr>\n",
              "      <td>204</td>\n",
              "      <td>0.074900</td>\n",
              "    </tr>\n",
              "    <tr>\n",
              "      <td>238</td>\n",
              "      <td>0.057500</td>\n",
              "    </tr>\n",
              "    <tr>\n",
              "      <td>272</td>\n",
              "      <td>0.039700</td>\n",
              "    </tr>\n",
              "    <tr>\n",
              "      <td>306</td>\n",
              "      <td>0.022500</td>\n",
              "    </tr>\n",
              "    <tr>\n",
              "      <td>340</td>\n",
              "      <td>0.015300</td>\n",
              "    </tr>\n",
              "  </tbody>\n",
              "</table><p>"
            ]
          },
          "metadata": {}
        },
        {
          "output_type": "execute_result",
          "data": {
            "text/plain": [
              "TrainOutput(global_step=340, training_loss=0.1592892704641118, metrics={'train_runtime': 178.4337, 'train_samples_per_second': 30.488, 'train_steps_per_second': 1.905, 'total_flos': 3312730924646400.0, 'train_loss': 0.1592892704641118, 'epoch': 10.0})"
            ]
          },
          "metadata": {},
          "execution_count": 16
        }
      ],
      "source": [
        "# Start training\n",
        "trainer.train()"
      ]
    },
    {
      "cell_type": "markdown",
      "metadata": {
        "id": "rdi_pJLBP9f-"
      },
      "source": [
        "Nice, we have trained our model. 🎉 Lets run evaluate the best model again on the test set.\n"
      ]
    },
    {
      "cell_type": "code",
      "execution_count": 17,
      "metadata": {
        "id": "x_RRbvvoP9f-",
        "colab": {
          "base_uri": "https://localhost:8080/",
          "height": 213
        },
        "outputId": "969ffb92-6eee-4064-bd1e-6cfe851f9a25"
      },
      "outputs": [
        {
          "output_type": "stream",
          "name": "stderr",
          "text": [
            "/leonardo/home/userexternal/msiino00/clean-updated-env/lib/python3.10/site-packages/transformers/generation/utils.py:1133: UserWarning: Using the model-agnostic default `max_length` (=20) to control the generation length. We recommend setting `max_new_tokens` to control the maximum length of the generation.\n",
            "  warnings.warn(\n"
          ]
        },
        {
          "output_type": "display_data",
          "data": {
            "text/plain": [
              "<IPython.core.display.HTML object>"
            ],
            "text/html": [
              "\n",
              "    <div>\n",
              "      \n",
              "      <progress value='9' max='9' style='width:300px; height:20px; vertical-align: middle;'></progress>\n",
              "      [9/9 00:03]\n",
              "    </div>\n",
              "    "
            ]
          },
          "metadata": {}
        },
        {
          "output_type": "execute_result",
          "data": {
            "text/plain": [
              "{'eval_loss': 0.22454124689102173,\n",
              " 'eval_accuracy': 87.5,\n",
              " 'eval_gen_len': 3.0,\n",
              " 'eval_runtime': 4.904,\n",
              " 'eval_samples_per_second': 27.732,\n",
              " 'eval_steps_per_second': 1.835,\n",
              " 'epoch': 10.0}"
            ]
          },
          "metadata": {},
          "execution_count": 17
        }
      ],
      "source": [
        "trainer.evaluate()"
      ]
    },
    {
      "cell_type": "code",
      "execution_count": null,
      "metadata": {
        "id": "EgKyYOXWP9gA"
      },
      "outputs": [],
      "source": [
        "# Save our tokenizer and create model card\n",
        "tokenizer.save_pretrained(repository_id)\n",
        "trainer.create_model_card()\n",
        "# Push the results to the hub\n",
        "trainer.push_to_hub()"
      ]
    },
    {
      "cell_type": "markdown",
      "metadata": {
        "id": "sRCjQfZ8B1p8"
      },
      "source": [
        "## 4. Run Inference and Classification Report"
      ]
    },
    {
      "cell_type": "code",
      "source": [
        "from tqdm.auto import tqdm\n",
        "\n",
        "samples_number = len(dataset['test'])\n",
        "progress_bar = tqdm(range(samples_number))\n",
        "predictions_list = []\n",
        "labels_list = []\n",
        "for i in range(samples_number):\n",
        "  text = dataset['test']['text'][i]\n",
        "  inputs = tokenizer.encode_plus(text, padding='max_length', max_length=512, return_tensors='pt').to('cuda')\n",
        "  outputs = model.generate(inputs['input_ids'], attention_mask=inputs['attention_mask'], max_length=150, num_beams=4, early_stopping=True)\n",
        "  prediction = tokenizer.decode(outputs[0], skip_special_tokens=True)\n",
        "  predictions_list.append(prediction)\n",
        "  labels_list.append(dataset['test']['label'][i])\n",
        "\n",
        "  progress_bar.update(1)"
      ],
      "metadata": {
        "id": "2aP6bVVfmOhf"
      },
      "execution_count": null,
      "outputs": []
    },
    {
      "cell_type": "code",
      "source": [
        "str_labels_list = []\n",
        "for i in range(len(labels_list)): str_labels_list.append(str(labels_list[i]))"
      ],
      "metadata": {
        "id": "XCU7WxZWkjU1"
      },
      "execution_count": null,
      "outputs": []
    },
    {
      "cell_type": "code",
      "source": [
        "from sklearn.metrics import classification_report\n",
        "\n",
        "report = classification_report(str_labels_list, predictions_list, zero_division=0)\n",
        "print(report)"
      ],
      "metadata": {
        "id": "X3iqrE4CmOhl"
      },
      "execution_count": null,
      "outputs": []
    },
    {
      "cell_type": "code",
      "source": [
        "from sklearn.metrics import classification_report\n",
        "\n",
        "report = classification_report(str_labels_list, predictions_list, zero_division=0)\n",
        "print(report)"
      ],
      "metadata": {
        "id": "sTrRo7ZkCunr"
      },
      "execution_count": null,
      "outputs": []
    }
  ],
  "metadata": {
    "accelerator": "GPU",
    "colab": {
      "provenance": [],
      "include_colab_link": true
    },
    "gpuClass": "standard",
    "kernelspec": {
      "display_name": "pytorch",
      "language": "python",
      "name": "python3"
    },
    "language_info": {
      "codemirror_mode": {
        "name": "ipython",
        "version": 3
      },
      "file_extension": ".py",
      "mimetype": "text/x-python",
      "name": "python",
      "nbconvert_exporter": "python",
      "pygments_lexer": "ipython3",
      "version": "3.9.15 | packaged by conda-forge | (main, Nov 22 2022, 15:55:03) \n[GCC 10.4.0]"
    },
    "vscode": {
      "interpreter": {
        "hash": "2d58e898dde0263bc564c6968b04150abacfd33eed9b19aaa8e45c040360e146"
      }
    },
    "widgets": {
      "application/vnd.jupyter.widget-state+json": {
        "f90ae72cb4d64eec829fc060acd09d47": {
          "model_module": "@jupyter-widgets/controls",
          "model_name": "HBoxModel",
          "model_module_version": "2.0.0",
          "state": {
            "_dom_classes": [],
            "_model_module": "@jupyter-widgets/controls",
            "_model_module_version": "2.0.0",
            "_model_name": "HBoxModel",
            "_view_count": null,
            "_view_module": "@jupyter-widgets/controls",
            "_view_module_version": "2.0.0",
            "_view_name": "HBoxView",
            "box_style": "",
            "children": [
              "IPY_MODEL_f5c2f5b730fe40408fcb1c8180c78951",
              "IPY_MODEL_d3a358af618745608f518662107b1855",
              "IPY_MODEL_7fdd341627814da2a7229f0a223424af"
            ],
            "layout": "IPY_MODEL_fd329d0d0bd145dcb01bb5a5aeb9cc83",
            "tabbable": null,
            "tooltip": null
          }
        },
        "f5c2f5b730fe40408fcb1c8180c78951": {
          "model_module": "@jupyter-widgets/controls",
          "model_name": "HTMLModel",
          "model_module_version": "2.0.0",
          "state": {
            "_dom_classes": [],
            "_model_module": "@jupyter-widgets/controls",
            "_model_module_version": "2.0.0",
            "_model_name": "HTMLModel",
            "_view_count": null,
            "_view_module": "@jupyter-widgets/controls",
            "_view_module_version": "2.0.0",
            "_view_name": "HTMLView",
            "description": "",
            "description_allow_html": false,
            "layout": "IPY_MODEL_5ea01808b2fd444eb3a22ca9e48c687a",
            "placeholder": "​",
            "style": "IPY_MODEL_c45a4845100c4d1799a7af5c4c94d602",
            "tabbable": null,
            "tooltip": null,
            "value": "Map: 100%"
          }
        },
        "d3a358af618745608f518662107b1855": {
          "model_module": "@jupyter-widgets/controls",
          "model_name": "FloatProgressModel",
          "model_module_version": "2.0.0",
          "state": {
            "_dom_classes": [],
            "_model_module": "@jupyter-widgets/controls",
            "_model_module_version": "2.0.0",
            "_model_name": "FloatProgressModel",
            "_view_count": null,
            "_view_module": "@jupyter-widgets/controls",
            "_view_module_version": "2.0.0",
            "_view_name": "ProgressView",
            "bar_style": "success",
            "description": "",
            "description_allow_html": false,
            "layout": "IPY_MODEL_2469caf523164b61bc01fa3f8ca2115a",
            "max": 680,
            "min": 0,
            "orientation": "horizontal",
            "style": "IPY_MODEL_fe62d91e90c54c0294d716047cc8fe4d",
            "tabbable": null,
            "tooltip": null,
            "value": 680
          }
        },
        "7fdd341627814da2a7229f0a223424af": {
          "model_module": "@jupyter-widgets/controls",
          "model_name": "HTMLModel",
          "model_module_version": "2.0.0",
          "state": {
            "_dom_classes": [],
            "_model_module": "@jupyter-widgets/controls",
            "_model_module_version": "2.0.0",
            "_model_name": "HTMLModel",
            "_view_count": null,
            "_view_module": "@jupyter-widgets/controls",
            "_view_module_version": "2.0.0",
            "_view_name": "HTMLView",
            "description": "",
            "description_allow_html": false,
            "layout": "IPY_MODEL_7aee39c0d0b24eb09255920c9e00352d",
            "placeholder": "​",
            "style": "IPY_MODEL_f5a601a41cf345139c7924d454993cdc",
            "tabbable": null,
            "tooltip": null,
            "value": " 680/680 [00:04&lt;00:00, 167.41 examples/s]"
          }
        },
        "fd329d0d0bd145dcb01bb5a5aeb9cc83": {
          "model_module": "@jupyter-widgets/base",
          "model_name": "LayoutModel",
          "model_module_version": "2.0.0",
          "state": {
            "_model_module": "@jupyter-widgets/base",
            "_model_module_version": "2.0.0",
            "_model_name": "LayoutModel",
            "_view_count": null,
            "_view_module": "@jupyter-widgets/base",
            "_view_module_version": "2.0.0",
            "_view_name": "LayoutView",
            "align_content": null,
            "align_items": null,
            "align_self": null,
            "border_bottom": null,
            "border_left": null,
            "border_right": null,
            "border_top": null,
            "bottom": null,
            "display": null,
            "flex": null,
            "flex_flow": null,
            "grid_area": null,
            "grid_auto_columns": null,
            "grid_auto_flow": null,
            "grid_auto_rows": null,
            "grid_column": null,
            "grid_gap": null,
            "grid_row": null,
            "grid_template_areas": null,
            "grid_template_columns": null,
            "grid_template_rows": null,
            "height": null,
            "justify_content": null,
            "justify_items": null,
            "left": null,
            "margin": null,
            "max_height": null,
            "max_width": null,
            "min_height": null,
            "min_width": null,
            "object_fit": null,
            "object_position": null,
            "order": null,
            "overflow": null,
            "padding": null,
            "right": null,
            "top": null,
            "visibility": null,
            "width": null
          }
        },
        "5ea01808b2fd444eb3a22ca9e48c687a": {
          "model_module": "@jupyter-widgets/base",
          "model_name": "LayoutModel",
          "model_module_version": "2.0.0",
          "state": {
            "_model_module": "@jupyter-widgets/base",
            "_model_module_version": "2.0.0",
            "_model_name": "LayoutModel",
            "_view_count": null,
            "_view_module": "@jupyter-widgets/base",
            "_view_module_version": "2.0.0",
            "_view_name": "LayoutView",
            "align_content": null,
            "align_items": null,
            "align_self": null,
            "border_bottom": null,
            "border_left": null,
            "border_right": null,
            "border_top": null,
            "bottom": null,
            "display": null,
            "flex": null,
            "flex_flow": null,
            "grid_area": null,
            "grid_auto_columns": null,
            "grid_auto_flow": null,
            "grid_auto_rows": null,
            "grid_column": null,
            "grid_gap": null,
            "grid_row": null,
            "grid_template_areas": null,
            "grid_template_columns": null,
            "grid_template_rows": null,
            "height": null,
            "justify_content": null,
            "justify_items": null,
            "left": null,
            "margin": null,
            "max_height": null,
            "max_width": null,
            "min_height": null,
            "min_width": null,
            "object_fit": null,
            "object_position": null,
            "order": null,
            "overflow": null,
            "padding": null,
            "right": null,
            "top": null,
            "visibility": null,
            "width": null
          }
        },
        "c45a4845100c4d1799a7af5c4c94d602": {
          "model_module": "@jupyter-widgets/controls",
          "model_name": "HTMLStyleModel",
          "model_module_version": "2.0.0",
          "state": {
            "_model_module": "@jupyter-widgets/controls",
            "_model_module_version": "2.0.0",
            "_model_name": "HTMLStyleModel",
            "_view_count": null,
            "_view_module": "@jupyter-widgets/base",
            "_view_module_version": "2.0.0",
            "_view_name": "StyleView",
            "background": null,
            "description_width": "",
            "font_size": null,
            "text_color": null
          }
        },
        "2469caf523164b61bc01fa3f8ca2115a": {
          "model_module": "@jupyter-widgets/base",
          "model_name": "LayoutModel",
          "model_module_version": "2.0.0",
          "state": {
            "_model_module": "@jupyter-widgets/base",
            "_model_module_version": "2.0.0",
            "_model_name": "LayoutModel",
            "_view_count": null,
            "_view_module": "@jupyter-widgets/base",
            "_view_module_version": "2.0.0",
            "_view_name": "LayoutView",
            "align_content": null,
            "align_items": null,
            "align_self": null,
            "border_bottom": null,
            "border_left": null,
            "border_right": null,
            "border_top": null,
            "bottom": null,
            "display": null,
            "flex": null,
            "flex_flow": null,
            "grid_area": null,
            "grid_auto_columns": null,
            "grid_auto_flow": null,
            "grid_auto_rows": null,
            "grid_column": null,
            "grid_gap": null,
            "grid_row": null,
            "grid_template_areas": null,
            "grid_template_columns": null,
            "grid_template_rows": null,
            "height": null,
            "justify_content": null,
            "justify_items": null,
            "left": null,
            "margin": null,
            "max_height": null,
            "max_width": null,
            "min_height": null,
            "min_width": null,
            "object_fit": null,
            "object_position": null,
            "order": null,
            "overflow": null,
            "padding": null,
            "right": null,
            "top": null,
            "visibility": null,
            "width": null
          }
        },
        "fe62d91e90c54c0294d716047cc8fe4d": {
          "model_module": "@jupyter-widgets/controls",
          "model_name": "ProgressStyleModel",
          "model_module_version": "2.0.0",
          "state": {
            "_model_module": "@jupyter-widgets/controls",
            "_model_module_version": "2.0.0",
            "_model_name": "ProgressStyleModel",
            "_view_count": null,
            "_view_module": "@jupyter-widgets/base",
            "_view_module_version": "2.0.0",
            "_view_name": "StyleView",
            "bar_color": null,
            "description_width": ""
          }
        },
        "7aee39c0d0b24eb09255920c9e00352d": {
          "model_module": "@jupyter-widgets/base",
          "model_name": "LayoutModel",
          "model_module_version": "2.0.0",
          "state": {
            "_model_module": "@jupyter-widgets/base",
            "_model_module_version": "2.0.0",
            "_model_name": "LayoutModel",
            "_view_count": null,
            "_view_module": "@jupyter-widgets/base",
            "_view_module_version": "2.0.0",
            "_view_name": "LayoutView",
            "align_content": null,
            "align_items": null,
            "align_self": null,
            "border_bottom": null,
            "border_left": null,
            "border_right": null,
            "border_top": null,
            "bottom": null,
            "display": null,
            "flex": null,
            "flex_flow": null,
            "grid_area": null,
            "grid_auto_columns": null,
            "grid_auto_flow": null,
            "grid_auto_rows": null,
            "grid_column": null,
            "grid_gap": null,
            "grid_row": null,
            "grid_template_areas": null,
            "grid_template_columns": null,
            "grid_template_rows": null,
            "height": null,
            "justify_content": null,
            "justify_items": null,
            "left": null,
            "margin": null,
            "max_height": null,
            "max_width": null,
            "min_height": null,
            "min_width": null,
            "object_fit": null,
            "object_position": null,
            "order": null,
            "overflow": null,
            "padding": null,
            "right": null,
            "top": null,
            "visibility": null,
            "width": null
          }
        },
        "f5a601a41cf345139c7924d454993cdc": {
          "model_module": "@jupyter-widgets/controls",
          "model_name": "HTMLStyleModel",
          "model_module_version": "2.0.0",
          "state": {
            "_model_module": "@jupyter-widgets/controls",
            "_model_module_version": "2.0.0",
            "_model_name": "HTMLStyleModel",
            "_view_count": null,
            "_view_module": "@jupyter-widgets/base",
            "_view_module_version": "2.0.0",
            "_view_name": "StyleView",
            "background": null,
            "description_width": "",
            "font_size": null,
            "text_color": null
          }
        },
        "3e7b376c1af94c0a8562ee830a37eaa4": {
          "model_module": "@jupyter-widgets/controls",
          "model_name": "HBoxModel",
          "model_module_version": "2.0.0",
          "state": {
            "_dom_classes": [],
            "_model_module": "@jupyter-widgets/controls",
            "_model_module_version": "2.0.0",
            "_model_name": "HBoxModel",
            "_view_count": null,
            "_view_module": "@jupyter-widgets/controls",
            "_view_module_version": "2.0.0",
            "_view_name": "HBoxView",
            "box_style": "",
            "children": [
              "IPY_MODEL_370a20a5050a4034a944c09d0a4989f7",
              "IPY_MODEL_452ea1b23e254dd292e814f7673e82b8",
              "IPY_MODEL_d60fe07cac4c45279e162435dd95c448"
            ],
            "layout": "IPY_MODEL_9a9348eaaba24f3dab9b0beb8aed2424",
            "tabbable": null,
            "tooltip": null
          }
        },
        "370a20a5050a4034a944c09d0a4989f7": {
          "model_module": "@jupyter-widgets/controls",
          "model_name": "HTMLModel",
          "model_module_version": "2.0.0",
          "state": {
            "_dom_classes": [],
            "_model_module": "@jupyter-widgets/controls",
            "_model_module_version": "2.0.0",
            "_model_name": "HTMLModel",
            "_view_count": null,
            "_view_module": "@jupyter-widgets/controls",
            "_view_module_version": "2.0.0",
            "_view_name": "HTMLView",
            "description": "",
            "description_allow_html": false,
            "layout": "IPY_MODEL_4f1453ea955949a8b9c57c539a3d4283",
            "placeholder": "​",
            "style": "IPY_MODEL_b3e646d001ea41198011646b69342909",
            "tabbable": null,
            "tooltip": null,
            "value": "Map: 100%"
          }
        },
        "452ea1b23e254dd292e814f7673e82b8": {
          "model_module": "@jupyter-widgets/controls",
          "model_name": "FloatProgressModel",
          "model_module_version": "2.0.0",
          "state": {
            "_dom_classes": [],
            "_model_module": "@jupyter-widgets/controls",
            "_model_module_version": "2.0.0",
            "_model_name": "FloatProgressModel",
            "_view_count": null,
            "_view_module": "@jupyter-widgets/controls",
            "_view_module_version": "2.0.0",
            "_view_name": "ProgressView",
            "bar_style": "success",
            "description": "",
            "description_allow_html": false,
            "layout": "IPY_MODEL_77a4f2081f474b03929df6af6aefc12a",
            "max": 680,
            "min": 0,
            "orientation": "horizontal",
            "style": "IPY_MODEL_d20d203fa5ae446fb6af65b3df223fbd",
            "tabbable": null,
            "tooltip": null,
            "value": 680
          }
        },
        "d60fe07cac4c45279e162435dd95c448": {
          "model_module": "@jupyter-widgets/controls",
          "model_name": "HTMLModel",
          "model_module_version": "2.0.0",
          "state": {
            "_dom_classes": [],
            "_model_module": "@jupyter-widgets/controls",
            "_model_module_version": "2.0.0",
            "_model_name": "HTMLModel",
            "_view_count": null,
            "_view_module": "@jupyter-widgets/controls",
            "_view_module_version": "2.0.0",
            "_view_name": "HTMLView",
            "description": "",
            "description_allow_html": false,
            "layout": "IPY_MODEL_0333e6e88b75469680d88ab33bac9a47",
            "placeholder": "​",
            "style": "IPY_MODEL_91aba1a2c8be4e4dbaaa27e5f0028d22",
            "tabbable": null,
            "tooltip": null,
            "value": " 680/680 [00:00&lt;00:00, 10462.30 examples/s]"
          }
        },
        "9a9348eaaba24f3dab9b0beb8aed2424": {
          "model_module": "@jupyter-widgets/base",
          "model_name": "LayoutModel",
          "model_module_version": "2.0.0",
          "state": {
            "_model_module": "@jupyter-widgets/base",
            "_model_module_version": "2.0.0",
            "_model_name": "LayoutModel",
            "_view_count": null,
            "_view_module": "@jupyter-widgets/base",
            "_view_module_version": "2.0.0",
            "_view_name": "LayoutView",
            "align_content": null,
            "align_items": null,
            "align_self": null,
            "border_bottom": null,
            "border_left": null,
            "border_right": null,
            "border_top": null,
            "bottom": null,
            "display": null,
            "flex": null,
            "flex_flow": null,
            "grid_area": null,
            "grid_auto_columns": null,
            "grid_auto_flow": null,
            "grid_auto_rows": null,
            "grid_column": null,
            "grid_gap": null,
            "grid_row": null,
            "grid_template_areas": null,
            "grid_template_columns": null,
            "grid_template_rows": null,
            "height": null,
            "justify_content": null,
            "justify_items": null,
            "left": null,
            "margin": null,
            "max_height": null,
            "max_width": null,
            "min_height": null,
            "min_width": null,
            "object_fit": null,
            "object_position": null,
            "order": null,
            "overflow": null,
            "padding": null,
            "right": null,
            "top": null,
            "visibility": null,
            "width": null
          }
        },
        "4f1453ea955949a8b9c57c539a3d4283": {
          "model_module": "@jupyter-widgets/base",
          "model_name": "LayoutModel",
          "model_module_version": "2.0.0",
          "state": {
            "_model_module": "@jupyter-widgets/base",
            "_model_module_version": "2.0.0",
            "_model_name": "LayoutModel",
            "_view_count": null,
            "_view_module": "@jupyter-widgets/base",
            "_view_module_version": "2.0.0",
            "_view_name": "LayoutView",
            "align_content": null,
            "align_items": null,
            "align_self": null,
            "border_bottom": null,
            "border_left": null,
            "border_right": null,
            "border_top": null,
            "bottom": null,
            "display": null,
            "flex": null,
            "flex_flow": null,
            "grid_area": null,
            "grid_auto_columns": null,
            "grid_auto_flow": null,
            "grid_auto_rows": null,
            "grid_column": null,
            "grid_gap": null,
            "grid_row": null,
            "grid_template_areas": null,
            "grid_template_columns": null,
            "grid_template_rows": null,
            "height": null,
            "justify_content": null,
            "justify_items": null,
            "left": null,
            "margin": null,
            "max_height": null,
            "max_width": null,
            "min_height": null,
            "min_width": null,
            "object_fit": null,
            "object_position": null,
            "order": null,
            "overflow": null,
            "padding": null,
            "right": null,
            "top": null,
            "visibility": null,
            "width": null
          }
        },
        "b3e646d001ea41198011646b69342909": {
          "model_module": "@jupyter-widgets/controls",
          "model_name": "HTMLStyleModel",
          "model_module_version": "2.0.0",
          "state": {
            "_model_module": "@jupyter-widgets/controls",
            "_model_module_version": "2.0.0",
            "_model_name": "HTMLStyleModel",
            "_view_count": null,
            "_view_module": "@jupyter-widgets/base",
            "_view_module_version": "2.0.0",
            "_view_name": "StyleView",
            "background": null,
            "description_width": "",
            "font_size": null,
            "text_color": null
          }
        },
        "77a4f2081f474b03929df6af6aefc12a": {
          "model_module": "@jupyter-widgets/base",
          "model_name": "LayoutModel",
          "model_module_version": "2.0.0",
          "state": {
            "_model_module": "@jupyter-widgets/base",
            "_model_module_version": "2.0.0",
            "_model_name": "LayoutModel",
            "_view_count": null,
            "_view_module": "@jupyter-widgets/base",
            "_view_module_version": "2.0.0",
            "_view_name": "LayoutView",
            "align_content": null,
            "align_items": null,
            "align_self": null,
            "border_bottom": null,
            "border_left": null,
            "border_right": null,
            "border_top": null,
            "bottom": null,
            "display": null,
            "flex": null,
            "flex_flow": null,
            "grid_area": null,
            "grid_auto_columns": null,
            "grid_auto_flow": null,
            "grid_auto_rows": null,
            "grid_column": null,
            "grid_gap": null,
            "grid_row": null,
            "grid_template_areas": null,
            "grid_template_columns": null,
            "grid_template_rows": null,
            "height": null,
            "justify_content": null,
            "justify_items": null,
            "left": null,
            "margin": null,
            "max_height": null,
            "max_width": null,
            "min_height": null,
            "min_width": null,
            "object_fit": null,
            "object_position": null,
            "order": null,
            "overflow": null,
            "padding": null,
            "right": null,
            "top": null,
            "visibility": null,
            "width": null
          }
        },
        "d20d203fa5ae446fb6af65b3df223fbd": {
          "model_module": "@jupyter-widgets/controls",
          "model_name": "ProgressStyleModel",
          "model_module_version": "2.0.0",
          "state": {
            "_model_module": "@jupyter-widgets/controls",
            "_model_module_version": "2.0.0",
            "_model_name": "ProgressStyleModel",
            "_view_count": null,
            "_view_module": "@jupyter-widgets/base",
            "_view_module_version": "2.0.0",
            "_view_name": "StyleView",
            "bar_color": null,
            "description_width": ""
          }
        },
        "0333e6e88b75469680d88ab33bac9a47": {
          "model_module": "@jupyter-widgets/base",
          "model_name": "LayoutModel",
          "model_module_version": "2.0.0",
          "state": {
            "_model_module": "@jupyter-widgets/base",
            "_model_module_version": "2.0.0",
            "_model_name": "LayoutModel",
            "_view_count": null,
            "_view_module": "@jupyter-widgets/base",
            "_view_module_version": "2.0.0",
            "_view_name": "LayoutView",
            "align_content": null,
            "align_items": null,
            "align_self": null,
            "border_bottom": null,
            "border_left": null,
            "border_right": null,
            "border_top": null,
            "bottom": null,
            "display": null,
            "flex": null,
            "flex_flow": null,
            "grid_area": null,
            "grid_auto_columns": null,
            "grid_auto_flow": null,
            "grid_auto_rows": null,
            "grid_column": null,
            "grid_gap": null,
            "grid_row": null,
            "grid_template_areas": null,
            "grid_template_columns": null,
            "grid_template_rows": null,
            "height": null,
            "justify_content": null,
            "justify_items": null,
            "left": null,
            "margin": null,
            "max_height": null,
            "max_width": null,
            "min_height": null,
            "min_width": null,
            "object_fit": null,
            "object_position": null,
            "order": null,
            "overflow": null,
            "padding": null,
            "right": null,
            "top": null,
            "visibility": null,
            "width": null
          }
        },
        "91aba1a2c8be4e4dbaaa27e5f0028d22": {
          "model_module": "@jupyter-widgets/controls",
          "model_name": "HTMLStyleModel",
          "model_module_version": "2.0.0",
          "state": {
            "_model_module": "@jupyter-widgets/controls",
            "_model_module_version": "2.0.0",
            "_model_name": "HTMLStyleModel",
            "_view_count": null,
            "_view_module": "@jupyter-widgets/base",
            "_view_module_version": "2.0.0",
            "_view_name": "StyleView",
            "background": null,
            "description_width": "",
            "font_size": null,
            "text_color": null
          }
        },
        "dfd63fe43f4a4f8baff4fefa7dbbdb8e": {
          "model_module": "@jupyter-widgets/controls",
          "model_name": "HBoxModel",
          "model_module_version": "2.0.0",
          "state": {
            "_dom_classes": [],
            "_model_module": "@jupyter-widgets/controls",
            "_model_module_version": "2.0.0",
            "_model_name": "HBoxModel",
            "_view_count": null,
            "_view_module": "@jupyter-widgets/controls",
            "_view_module_version": "2.0.0",
            "_view_name": "HBoxView",
            "box_style": "",
            "children": [
              "IPY_MODEL_ab5d0454e0894bcca546b86cb7bb97a2",
              "IPY_MODEL_d12f561e3b7747c3b38ff8a9ebc189f5",
              "IPY_MODEL_267acea00a9c415983032e0eaac99391"
            ],
            "layout": "IPY_MODEL_e322e4dcdd03403ba5cc18a898cc496e",
            "tabbable": null,
            "tooltip": null
          }
        },
        "ab5d0454e0894bcca546b86cb7bb97a2": {
          "model_module": "@jupyter-widgets/controls",
          "model_name": "HTMLModel",
          "model_module_version": "2.0.0",
          "state": {
            "_dom_classes": [],
            "_model_module": "@jupyter-widgets/controls",
            "_model_module_version": "2.0.0",
            "_model_name": "HTMLModel",
            "_view_count": null,
            "_view_module": "@jupyter-widgets/controls",
            "_view_module_version": "2.0.0",
            "_view_name": "HTMLView",
            "description": "",
            "description_allow_html": false,
            "layout": "IPY_MODEL_e533e02cc3df440e992efca850af47a0",
            "placeholder": "​",
            "style": "IPY_MODEL_b3c1841a55154b219352ee81817d51cd",
            "tabbable": null,
            "tooltip": null,
            "value": "Map: 100%"
          }
        },
        "d12f561e3b7747c3b38ff8a9ebc189f5": {
          "model_module": "@jupyter-widgets/controls",
          "model_name": "FloatProgressModel",
          "model_module_version": "2.0.0",
          "state": {
            "_dom_classes": [],
            "_model_module": "@jupyter-widgets/controls",
            "_model_module_version": "2.0.0",
            "_model_name": "FloatProgressModel",
            "_view_count": null,
            "_view_module": "@jupyter-widgets/controls",
            "_view_module_version": "2.0.0",
            "_view_name": "ProgressView",
            "bar_style": "success",
            "description": "",
            "description_allow_html": false,
            "layout": "IPY_MODEL_12f5b60add554657a46ac29e4408847c",
            "max": 544,
            "min": 0,
            "orientation": "horizontal",
            "style": "IPY_MODEL_ae943a075971419cbfaee46d0bdb7778",
            "tabbable": null,
            "tooltip": null,
            "value": 544
          }
        },
        "267acea00a9c415983032e0eaac99391": {
          "model_module": "@jupyter-widgets/controls",
          "model_name": "HTMLModel",
          "model_module_version": "2.0.0",
          "state": {
            "_dom_classes": [],
            "_model_module": "@jupyter-widgets/controls",
            "_model_module_version": "2.0.0",
            "_model_name": "HTMLModel",
            "_view_count": null,
            "_view_module": "@jupyter-widgets/controls",
            "_view_module_version": "2.0.0",
            "_view_name": "HTMLView",
            "description": "",
            "description_allow_html": false,
            "layout": "IPY_MODEL_ee30d3bedb4445a9b69631185d2fbe7a",
            "placeholder": "​",
            "style": "IPY_MODEL_b076ab15db5447729bbaaebaafba22a7",
            "tabbable": null,
            "tooltip": null,
            "value": " 544/544 [00:03&lt;00:00, 166.32 examples/s]"
          }
        },
        "e322e4dcdd03403ba5cc18a898cc496e": {
          "model_module": "@jupyter-widgets/base",
          "model_name": "LayoutModel",
          "model_module_version": "2.0.0",
          "state": {
            "_model_module": "@jupyter-widgets/base",
            "_model_module_version": "2.0.0",
            "_model_name": "LayoutModel",
            "_view_count": null,
            "_view_module": "@jupyter-widgets/base",
            "_view_module_version": "2.0.0",
            "_view_name": "LayoutView",
            "align_content": null,
            "align_items": null,
            "align_self": null,
            "border_bottom": null,
            "border_left": null,
            "border_right": null,
            "border_top": null,
            "bottom": null,
            "display": null,
            "flex": null,
            "flex_flow": null,
            "grid_area": null,
            "grid_auto_columns": null,
            "grid_auto_flow": null,
            "grid_auto_rows": null,
            "grid_column": null,
            "grid_gap": null,
            "grid_row": null,
            "grid_template_areas": null,
            "grid_template_columns": null,
            "grid_template_rows": null,
            "height": null,
            "justify_content": null,
            "justify_items": null,
            "left": null,
            "margin": null,
            "max_height": null,
            "max_width": null,
            "min_height": null,
            "min_width": null,
            "object_fit": null,
            "object_position": null,
            "order": null,
            "overflow": null,
            "padding": null,
            "right": null,
            "top": null,
            "visibility": null,
            "width": null
          }
        },
        "e533e02cc3df440e992efca850af47a0": {
          "model_module": "@jupyter-widgets/base",
          "model_name": "LayoutModel",
          "model_module_version": "2.0.0",
          "state": {
            "_model_module": "@jupyter-widgets/base",
            "_model_module_version": "2.0.0",
            "_model_name": "LayoutModel",
            "_view_count": null,
            "_view_module": "@jupyter-widgets/base",
            "_view_module_version": "2.0.0",
            "_view_name": "LayoutView",
            "align_content": null,
            "align_items": null,
            "align_self": null,
            "border_bottom": null,
            "border_left": null,
            "border_right": null,
            "border_top": null,
            "bottom": null,
            "display": null,
            "flex": null,
            "flex_flow": null,
            "grid_area": null,
            "grid_auto_columns": null,
            "grid_auto_flow": null,
            "grid_auto_rows": null,
            "grid_column": null,
            "grid_gap": null,
            "grid_row": null,
            "grid_template_areas": null,
            "grid_template_columns": null,
            "grid_template_rows": null,
            "height": null,
            "justify_content": null,
            "justify_items": null,
            "left": null,
            "margin": null,
            "max_height": null,
            "max_width": null,
            "min_height": null,
            "min_width": null,
            "object_fit": null,
            "object_position": null,
            "order": null,
            "overflow": null,
            "padding": null,
            "right": null,
            "top": null,
            "visibility": null,
            "width": null
          }
        },
        "b3c1841a55154b219352ee81817d51cd": {
          "model_module": "@jupyter-widgets/controls",
          "model_name": "HTMLStyleModel",
          "model_module_version": "2.0.0",
          "state": {
            "_model_module": "@jupyter-widgets/controls",
            "_model_module_version": "2.0.0",
            "_model_name": "HTMLStyleModel",
            "_view_count": null,
            "_view_module": "@jupyter-widgets/base",
            "_view_module_version": "2.0.0",
            "_view_name": "StyleView",
            "background": null,
            "description_width": "",
            "font_size": null,
            "text_color": null
          }
        },
        "12f5b60add554657a46ac29e4408847c": {
          "model_module": "@jupyter-widgets/base",
          "model_name": "LayoutModel",
          "model_module_version": "2.0.0",
          "state": {
            "_model_module": "@jupyter-widgets/base",
            "_model_module_version": "2.0.0",
            "_model_name": "LayoutModel",
            "_view_count": null,
            "_view_module": "@jupyter-widgets/base",
            "_view_module_version": "2.0.0",
            "_view_name": "LayoutView",
            "align_content": null,
            "align_items": null,
            "align_self": null,
            "border_bottom": null,
            "border_left": null,
            "border_right": null,
            "border_top": null,
            "bottom": null,
            "display": null,
            "flex": null,
            "flex_flow": null,
            "grid_area": null,
            "grid_auto_columns": null,
            "grid_auto_flow": null,
            "grid_auto_rows": null,
            "grid_column": null,
            "grid_gap": null,
            "grid_row": null,
            "grid_template_areas": null,
            "grid_template_columns": null,
            "grid_template_rows": null,
            "height": null,
            "justify_content": null,
            "justify_items": null,
            "left": null,
            "margin": null,
            "max_height": null,
            "max_width": null,
            "min_height": null,
            "min_width": null,
            "object_fit": null,
            "object_position": null,
            "order": null,
            "overflow": null,
            "padding": null,
            "right": null,
            "top": null,
            "visibility": null,
            "width": null
          }
        },
        "ae943a075971419cbfaee46d0bdb7778": {
          "model_module": "@jupyter-widgets/controls",
          "model_name": "ProgressStyleModel",
          "model_module_version": "2.0.0",
          "state": {
            "_model_module": "@jupyter-widgets/controls",
            "_model_module_version": "2.0.0",
            "_model_name": "ProgressStyleModel",
            "_view_count": null,
            "_view_module": "@jupyter-widgets/base",
            "_view_module_version": "2.0.0",
            "_view_name": "StyleView",
            "bar_color": null,
            "description_width": ""
          }
        },
        "ee30d3bedb4445a9b69631185d2fbe7a": {
          "model_module": "@jupyter-widgets/base",
          "model_name": "LayoutModel",
          "model_module_version": "2.0.0",
          "state": {
            "_model_module": "@jupyter-widgets/base",
            "_model_module_version": "2.0.0",
            "_model_name": "LayoutModel",
            "_view_count": null,
            "_view_module": "@jupyter-widgets/base",
            "_view_module_version": "2.0.0",
            "_view_name": "LayoutView",
            "align_content": null,
            "align_items": null,
            "align_self": null,
            "border_bottom": null,
            "border_left": null,
            "border_right": null,
            "border_top": null,
            "bottom": null,
            "display": null,
            "flex": null,
            "flex_flow": null,
            "grid_area": null,
            "grid_auto_columns": null,
            "grid_auto_flow": null,
            "grid_auto_rows": null,
            "grid_column": null,
            "grid_gap": null,
            "grid_row": null,
            "grid_template_areas": null,
            "grid_template_columns": null,
            "grid_template_rows": null,
            "height": null,
            "justify_content": null,
            "justify_items": null,
            "left": null,
            "margin": null,
            "max_height": null,
            "max_width": null,
            "min_height": null,
            "min_width": null,
            "object_fit": null,
            "object_position": null,
            "order": null,
            "overflow": null,
            "padding": null,
            "right": null,
            "top": null,
            "visibility": null,
            "width": null
          }
        },
        "b076ab15db5447729bbaaebaafba22a7": {
          "model_module": "@jupyter-widgets/controls",
          "model_name": "HTMLStyleModel",
          "model_module_version": "2.0.0",
          "state": {
            "_model_module": "@jupyter-widgets/controls",
            "_model_module_version": "2.0.0",
            "_model_name": "HTMLStyleModel",
            "_view_count": null,
            "_view_module": "@jupyter-widgets/base",
            "_view_module_version": "2.0.0",
            "_view_name": "StyleView",
            "background": null,
            "description_width": "",
            "font_size": null,
            "text_color": null
          }
        },
        "82eda9bb0b404888bc6bf42da42e3691": {
          "model_module": "@jupyter-widgets/controls",
          "model_name": "HBoxModel",
          "model_module_version": "2.0.0",
          "state": {
            "_dom_classes": [],
            "_model_module": "@jupyter-widgets/controls",
            "_model_module_version": "2.0.0",
            "_model_name": "HBoxModel",
            "_view_count": null,
            "_view_module": "@jupyter-widgets/controls",
            "_view_module_version": "2.0.0",
            "_view_name": "HBoxView",
            "box_style": "",
            "children": [
              "IPY_MODEL_42d70bfa8db440388a8e6c0c5cbc11ae",
              "IPY_MODEL_3b859b54e3f04acf9cde2927dba70c69",
              "IPY_MODEL_08151d33d392410abbd242c6996b948e"
            ],
            "layout": "IPY_MODEL_a2103373f4f147d5be12f9461a615fff",
            "tabbable": null,
            "tooltip": null
          }
        },
        "42d70bfa8db440388a8e6c0c5cbc11ae": {
          "model_module": "@jupyter-widgets/controls",
          "model_name": "HTMLModel",
          "model_module_version": "2.0.0",
          "state": {
            "_dom_classes": [],
            "_model_module": "@jupyter-widgets/controls",
            "_model_module_version": "2.0.0",
            "_model_name": "HTMLModel",
            "_view_count": null,
            "_view_module": "@jupyter-widgets/controls",
            "_view_module_version": "2.0.0",
            "_view_name": "HTMLView",
            "description": "",
            "description_allow_html": false,
            "layout": "IPY_MODEL_666cb17b65984bf5b92a88305c508848",
            "placeholder": "​",
            "style": "IPY_MODEL_e72f2d3ccd324217aa2551eb879c43ed",
            "tabbable": null,
            "tooltip": null,
            "value": "Map: 100%"
          }
        },
        "3b859b54e3f04acf9cde2927dba70c69": {
          "model_module": "@jupyter-widgets/controls",
          "model_name": "FloatProgressModel",
          "model_module_version": "2.0.0",
          "state": {
            "_dom_classes": [],
            "_model_module": "@jupyter-widgets/controls",
            "_model_module_version": "2.0.0",
            "_model_name": "FloatProgressModel",
            "_view_count": null,
            "_view_module": "@jupyter-widgets/controls",
            "_view_module_version": "2.0.0",
            "_view_name": "ProgressView",
            "bar_style": "success",
            "description": "",
            "description_allow_html": false,
            "layout": "IPY_MODEL_39bb6dac1c1a479b93331146bde82425",
            "max": 136,
            "min": 0,
            "orientation": "horizontal",
            "style": "IPY_MODEL_82b525cea8e8475bb9374152067ec498",
            "tabbable": null,
            "tooltip": null,
            "value": 136
          }
        },
        "08151d33d392410abbd242c6996b948e": {
          "model_module": "@jupyter-widgets/controls",
          "model_name": "HTMLModel",
          "model_module_version": "2.0.0",
          "state": {
            "_dom_classes": [],
            "_model_module": "@jupyter-widgets/controls",
            "_model_module_version": "2.0.0",
            "_model_name": "HTMLModel",
            "_view_count": null,
            "_view_module": "@jupyter-widgets/controls",
            "_view_module_version": "2.0.0",
            "_view_name": "HTMLView",
            "description": "",
            "description_allow_html": false,
            "layout": "IPY_MODEL_c4d6804a68094742911510fad5a9d535",
            "placeholder": "​",
            "style": "IPY_MODEL_3f02ebcfe0c640278ca3e38ebaa7b672",
            "tabbable": null,
            "tooltip": null,
            "value": " 136/136 [00:00&lt;00:00, 178.87 examples/s]"
          }
        },
        "a2103373f4f147d5be12f9461a615fff": {
          "model_module": "@jupyter-widgets/base",
          "model_name": "LayoutModel",
          "model_module_version": "2.0.0",
          "state": {
            "_model_module": "@jupyter-widgets/base",
            "_model_module_version": "2.0.0",
            "_model_name": "LayoutModel",
            "_view_count": null,
            "_view_module": "@jupyter-widgets/base",
            "_view_module_version": "2.0.0",
            "_view_name": "LayoutView",
            "align_content": null,
            "align_items": null,
            "align_self": null,
            "border_bottom": null,
            "border_left": null,
            "border_right": null,
            "border_top": null,
            "bottom": null,
            "display": null,
            "flex": null,
            "flex_flow": null,
            "grid_area": null,
            "grid_auto_columns": null,
            "grid_auto_flow": null,
            "grid_auto_rows": null,
            "grid_column": null,
            "grid_gap": null,
            "grid_row": null,
            "grid_template_areas": null,
            "grid_template_columns": null,
            "grid_template_rows": null,
            "height": null,
            "justify_content": null,
            "justify_items": null,
            "left": null,
            "margin": null,
            "max_height": null,
            "max_width": null,
            "min_height": null,
            "min_width": null,
            "object_fit": null,
            "object_position": null,
            "order": null,
            "overflow": null,
            "padding": null,
            "right": null,
            "top": null,
            "visibility": null,
            "width": null
          }
        },
        "666cb17b65984bf5b92a88305c508848": {
          "model_module": "@jupyter-widgets/base",
          "model_name": "LayoutModel",
          "model_module_version": "2.0.0",
          "state": {
            "_model_module": "@jupyter-widgets/base",
            "_model_module_version": "2.0.0",
            "_model_name": "LayoutModel",
            "_view_count": null,
            "_view_module": "@jupyter-widgets/base",
            "_view_module_version": "2.0.0",
            "_view_name": "LayoutView",
            "align_content": null,
            "align_items": null,
            "align_self": null,
            "border_bottom": null,
            "border_left": null,
            "border_right": null,
            "border_top": null,
            "bottom": null,
            "display": null,
            "flex": null,
            "flex_flow": null,
            "grid_area": null,
            "grid_auto_columns": null,
            "grid_auto_flow": null,
            "grid_auto_rows": null,
            "grid_column": null,
            "grid_gap": null,
            "grid_row": null,
            "grid_template_areas": null,
            "grid_template_columns": null,
            "grid_template_rows": null,
            "height": null,
            "justify_content": null,
            "justify_items": null,
            "left": null,
            "margin": null,
            "max_height": null,
            "max_width": null,
            "min_height": null,
            "min_width": null,
            "object_fit": null,
            "object_position": null,
            "order": null,
            "overflow": null,
            "padding": null,
            "right": null,
            "top": null,
            "visibility": null,
            "width": null
          }
        },
        "e72f2d3ccd324217aa2551eb879c43ed": {
          "model_module": "@jupyter-widgets/controls",
          "model_name": "HTMLStyleModel",
          "model_module_version": "2.0.0",
          "state": {
            "_model_module": "@jupyter-widgets/controls",
            "_model_module_version": "2.0.0",
            "_model_name": "HTMLStyleModel",
            "_view_count": null,
            "_view_module": "@jupyter-widgets/base",
            "_view_module_version": "2.0.0",
            "_view_name": "StyleView",
            "background": null,
            "description_width": "",
            "font_size": null,
            "text_color": null
          }
        },
        "39bb6dac1c1a479b93331146bde82425": {
          "model_module": "@jupyter-widgets/base",
          "model_name": "LayoutModel",
          "model_module_version": "2.0.0",
          "state": {
            "_model_module": "@jupyter-widgets/base",
            "_model_module_version": "2.0.0",
            "_model_name": "LayoutModel",
            "_view_count": null,
            "_view_module": "@jupyter-widgets/base",
            "_view_module_version": "2.0.0",
            "_view_name": "LayoutView",
            "align_content": null,
            "align_items": null,
            "align_self": null,
            "border_bottom": null,
            "border_left": null,
            "border_right": null,
            "border_top": null,
            "bottom": null,
            "display": null,
            "flex": null,
            "flex_flow": null,
            "grid_area": null,
            "grid_auto_columns": null,
            "grid_auto_flow": null,
            "grid_auto_rows": null,
            "grid_column": null,
            "grid_gap": null,
            "grid_row": null,
            "grid_template_areas": null,
            "grid_template_columns": null,
            "grid_template_rows": null,
            "height": null,
            "justify_content": null,
            "justify_items": null,
            "left": null,
            "margin": null,
            "max_height": null,
            "max_width": null,
            "min_height": null,
            "min_width": null,
            "object_fit": null,
            "object_position": null,
            "order": null,
            "overflow": null,
            "padding": null,
            "right": null,
            "top": null,
            "visibility": null,
            "width": null
          }
        },
        "82b525cea8e8475bb9374152067ec498": {
          "model_module": "@jupyter-widgets/controls",
          "model_name": "ProgressStyleModel",
          "model_module_version": "2.0.0",
          "state": {
            "_model_module": "@jupyter-widgets/controls",
            "_model_module_version": "2.0.0",
            "_model_name": "ProgressStyleModel",
            "_view_count": null,
            "_view_module": "@jupyter-widgets/base",
            "_view_module_version": "2.0.0",
            "_view_name": "StyleView",
            "bar_color": null,
            "description_width": ""
          }
        },
        "c4d6804a68094742911510fad5a9d535": {
          "model_module": "@jupyter-widgets/base",
          "model_name": "LayoutModel",
          "model_module_version": "2.0.0",
          "state": {
            "_model_module": "@jupyter-widgets/base",
            "_model_module_version": "2.0.0",
            "_model_name": "LayoutModel",
            "_view_count": null,
            "_view_module": "@jupyter-widgets/base",
            "_view_module_version": "2.0.0",
            "_view_name": "LayoutView",
            "align_content": null,
            "align_items": null,
            "align_self": null,
            "border_bottom": null,
            "border_left": null,
            "border_right": null,
            "border_top": null,
            "bottom": null,
            "display": null,
            "flex": null,
            "flex_flow": null,
            "grid_area": null,
            "grid_auto_columns": null,
            "grid_auto_flow": null,
            "grid_auto_rows": null,
            "grid_column": null,
            "grid_gap": null,
            "grid_row": null,
            "grid_template_areas": null,
            "grid_template_columns": null,
            "grid_template_rows": null,
            "height": null,
            "justify_content": null,
            "justify_items": null,
            "left": null,
            "margin": null,
            "max_height": null,
            "max_width": null,
            "min_height": null,
            "min_width": null,
            "object_fit": null,
            "object_position": null,
            "order": null,
            "overflow": null,
            "padding": null,
            "right": null,
            "top": null,
            "visibility": null,
            "width": null
          }
        },
        "3f02ebcfe0c640278ca3e38ebaa7b672": {
          "model_module": "@jupyter-widgets/controls",
          "model_name": "HTMLStyleModel",
          "model_module_version": "2.0.0",
          "state": {
            "_model_module": "@jupyter-widgets/controls",
            "_model_module_version": "2.0.0",
            "_model_name": "HTMLStyleModel",
            "_view_count": null,
            "_view_module": "@jupyter-widgets/base",
            "_view_module_version": "2.0.0",
            "_view_name": "StyleView",
            "background": null,
            "description_width": "",
            "font_size": null,
            "text_color": null
          }
        }
      }
    }
  },
  "nbformat": 4,
  "nbformat_minor": 0
}